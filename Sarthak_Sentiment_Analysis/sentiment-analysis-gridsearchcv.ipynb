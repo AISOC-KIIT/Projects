{
 "cells": [
  {
   "cell_type": "code",
   "execution_count": 1,
   "id": "68ee18e3",
   "metadata": {
    "_cell_guid": "b1076dfc-b9ad-4769-8c92-a6c4dae69d19",
    "_uuid": "8f2839f25d086af736a60e9eeb907d3b93b6e0e5",
    "execution": {
     "iopub.execute_input": "2024-12-25T20:37:05.331308Z",
     "iopub.status.busy": "2024-12-25T20:37:05.330995Z",
     "iopub.status.idle": "2024-12-25T20:37:22.903724Z",
     "shell.execute_reply": "2024-12-25T20:37:22.903015Z"
    },
    "papermill": {
     "duration": 17.577776,
     "end_time": "2024-12-25T20:37:22.905295",
     "exception": false,
     "start_time": "2024-12-25T20:37:05.327519",
     "status": "completed"
    },
    "tags": []
   },
   "outputs": [
    {
     "name": "stdout",
     "output_type": "stream",
     "text": [
      "Collecting contractions\r\n",
      "  Downloading contractions-0.1.73-py2.py3-none-any.whl.metadata (1.2 kB)\r\n",
      "Collecting textsearch>=0.0.21 (from contractions)\r\n",
      "  Downloading textsearch-0.0.24-py2.py3-none-any.whl.metadata (1.2 kB)\r\n",
      "Collecting anyascii (from textsearch>=0.0.21->contractions)\r\n",
      "  Downloading anyascii-0.3.2-py3-none-any.whl.metadata (1.5 kB)\r\n",
      "Collecting pyahocorasick (from textsearch>=0.0.21->contractions)\r\n",
      "  Downloading pyahocorasick-2.1.0-cp310-cp310-manylinux_2_5_x86_64.manylinux1_x86_64.manylinux_2_12_x86_64.manylinux2010_x86_64.whl.metadata (13 kB)\r\n",
      "Downloading contractions-0.1.73-py2.py3-none-any.whl (8.7 kB)\r\n",
      "Downloading textsearch-0.0.24-py2.py3-none-any.whl (7.6 kB)\r\n",
      "Downloading anyascii-0.3.2-py3-none-any.whl (289 kB)\r\n",
      "\u001b[2K   \u001b[90m━━━━━━━━━━━━━━━━━━━━━━━━━━━━━━━━━━━━━━━━\u001b[0m \u001b[32m289.9/289.9 kB\u001b[0m \u001b[31m6.3 MB/s\u001b[0m eta \u001b[36m0:00:00\u001b[0m\r\n",
      "\u001b[?25hDownloading pyahocorasick-2.1.0-cp310-cp310-manylinux_2_5_x86_64.manylinux1_x86_64.manylinux_2_12_x86_64.manylinux2010_x86_64.whl (110 kB)\r\n",
      "\u001b[2K   \u001b[90m━━━━━━━━━━━━━━━━━━━━━━━━━━━━━━━━━━━━━━━━\u001b[0m \u001b[32m110.7/110.7 kB\u001b[0m \u001b[31m7.9 MB/s\u001b[0m eta \u001b[36m0:00:00\u001b[0m\r\n",
      "\u001b[?25hInstalling collected packages: pyahocorasick, anyascii, textsearch, contractions\r\n",
      "Successfully installed anyascii-0.3.2 contractions-0.1.73 pyahocorasick-2.1.0 textsearch-0.0.24\r\n"
     ]
    }
   ],
   "source": [
    "#!pip install pandas numpy \n",
    "!pip install contractions\n",
    "\n",
    "import pandas as pd\n",
    "import re\n",
    "from nltk.corpus import stopwords\n",
    "import contractions\n",
    "import numpy as np\n",
    "import random\n",
    "import tensorflow as tf\n",
    "import matplotlib.pyplot as plt\n",
    "from sklearn.model_selection import train_test_split\n",
    "from tensorflow.keras.preprocessing.text import Tokenizer\n",
    "from tensorflow.keras.preprocessing.sequence import pad_sequences\n",
    "from tensorflow.keras.models import Sequential\n",
    "from tensorflow.keras.layers import Embedding, LSTM, Bidirectional, Dense, Dropout\n",
    "from tensorflow.keras.optimizers import Adam\n",
    "from tensorflow.keras.callbacks import EarlyStopping, ReduceLROnPlateau\n",
    "from tensorflow.keras import regularizers\n",
    "from sklearn.model_selection import GridSearchCV\n",
    "from sklearn.metrics import make_scorer"
   ]
  },
  {
   "cell_type": "code",
   "execution_count": 2,
   "id": "d6de10e6",
   "metadata": {
    "execution": {
     "iopub.execute_input": "2024-12-25T20:37:22.911824Z",
     "iopub.status.busy": "2024-12-25T20:37:22.911365Z",
     "iopub.status.idle": "2024-12-25T20:37:31.046611Z",
     "shell.execute_reply": "2024-12-25T20:37:31.045807Z"
    },
    "papermill": {
     "duration": 8.139776,
     "end_time": "2024-12-25T20:37:31.048142",
     "exception": false,
     "start_time": "2024-12-25T20:37:22.908366",
     "status": "completed"
    },
    "tags": []
   },
   "outputs": [
    {
     "name": "stdout",
     "output_type": "stream",
     "text": [
      "                                              review sentiment\n",
      "0  One of the other reviewers has mentioned that ...  positive\n",
      "1  A wonderful little production. <br /><br />The...  positive\n",
      "2  I thought this was a wonderful way to spend ti...  positive\n",
      "3  Basically there's a family where a little boy ...  negative\n",
      "4  Petter Mattei's \"Love in the Time of Money\" is...  positive\n",
      "5  Probably my all-time favorite movie, a story o...  positive\n",
      "6  I sure would like to see a resurrection of a u...  positive\n",
      "7  This show was an amazing, fresh & innovative i...  negative\n",
      "8  Encouraged by the positive comments about this...  negative\n",
      "9  If you like original gut wrenching laughter yo...  positive\n",
      "Training set: 45000 reviews\n",
      "Testing set: 5000 reviews\n",
      "Training set: 45000 sentiments\n",
      "Testing set: 5000 sentiments\n"
     ]
    }
   ],
   "source": [
    "np.random.seed(42)\n",
    "random.seed(42)\n",
    "tf.random.set_seed(42)\n",
    "\n",
    "# Show loaded data\n",
    "file_path = '/kaggle/input/imdb-dataset-of-50k-movie-reviews/IMDB Dataset.csv'\n",
    "imdb_data = pd.read_csv(file_path)\n",
    "print(imdb_data.head(10))\n",
    "\n",
    "# Data cleaning\n",
    "stop_words = set(stopwords.words('english'))\n",
    "\n",
    "imdb_data['sentiment'] = imdb_data['sentiment'].map({'positive': 1, 'negative': 0})\n",
    "imdb_data['sentiment'] = imdb_data['sentiment'].astype(int)\n",
    "\n",
    "def clean_text(text):\n",
    "    text = re.sub('<br />', ' ', text)  # Remove HTML tags\n",
    "    text = re.sub(r'[^a-zA-Z\\s]', '', text)  # Keep only letters\n",
    "    text = text.lower()  # Convert to lowercase\n",
    "    text = contractions.fix(text)  # Expand contractions like \"don't\" to \"do not\"\n",
    "    # Remove stopwords\n",
    "    text = ' '.join([word for word in text.split() if word not in stop_words])\n",
    "    return text\n",
    "\n",
    "imdb_data['review'] = imdb_data['review'].apply(clean_text)\n",
    "imdb_data.head(10)\n",
    "\n",
    "X = imdb_data['review']\n",
    "y = imdb_data['sentiment']\n",
    "X_train, X_test, y_train, y_test = train_test_split(X, y, test_size=0.1, random_state=42)\n",
    "\n",
    "print(f\"Training set: {len(X_train)} reviews\")\n",
    "print(f\"Testing set: {len(X_test)} reviews\")\n",
    "print(f\"Training set: {len(y_train)} sentiments\")\n",
    "print(f\"Testing set: {len(y_test)} sentiments\")\n"
   ]
  },
  {
   "cell_type": "code",
   "execution_count": 3,
   "id": "083dfe38",
   "metadata": {
    "execution": {
     "iopub.execute_input": "2024-12-25T20:37:31.054742Z",
     "iopub.status.busy": "2024-12-25T20:37:31.054479Z",
     "iopub.status.idle": "2024-12-25T20:37:37.477256Z",
     "shell.execute_reply": "2024-12-25T20:37:37.476238Z"
    },
    "papermill": {
     "duration": 6.427479,
     "end_time": "2024-12-25T20:37:37.478642",
     "exception": false,
     "start_time": "2024-12-25T20:37:31.051163",
     "status": "completed"
    },
    "tags": []
   },
   "outputs": [
    {
     "name": "stdout",
     "output_type": "stream",
     "text": [
      "Padded training data shape: (45000, 100)\n",
      "Padded testing data shape: (5000, 100)\n"
     ]
    }
   ],
   "source": [
    "# Text Vectorization\n",
    "tokenizer = Tokenizer(num_words=20000)  # Use the top 20,000 words\n",
    "tokenizer.fit_on_texts(X_train)\n",
    "\n",
    "# Convert text to sequences\n",
    "X_train_seq = tokenizer.texts_to_sequences(X_train)\n",
    "X_test_seq = tokenizer.texts_to_sequences(X_test)\n",
    "\n",
    "# Pad sequences to the same length\n",
    "maxlen = 100  # Maximum review length\n",
    "X_train_pad = pad_sequences(X_train_seq, maxlen=maxlen)\n",
    "X_test_pad = pad_sequences(X_test_seq, maxlen=maxlen)\n",
    "\n",
    "print(f\"Padded training data shape: {X_train_pad.shape}\")\n",
    "print(f\"Padded testing data shape: {X_test_pad.shape}\")"
   ]
  },
  {
   "cell_type": "markdown",
   "id": "f1dcc955",
   "metadata": {
    "papermill": {
     "duration": 0.002346,
     "end_time": "2024-12-25T20:37:37.483773",
     "exception": false,
     "start_time": "2024-12-25T20:37:37.481427",
     "status": "completed"
    },
    "tags": []
   },
   "source": [
    "<font size = 5 color = 'red'>GridSearchCV without KerasClassifier</font>"
   ]
  },
  {
   "cell_type": "code",
   "execution_count": 4,
   "id": "5d27fd91",
   "metadata": {
    "execution": {
     "iopub.execute_input": "2024-12-25T20:37:37.489529Z",
     "iopub.status.busy": "2024-12-25T20:37:37.489254Z",
     "iopub.status.idle": "2024-12-25T23:59:07.076816Z",
     "shell.execute_reply": "2024-12-25T23:59:07.076048Z"
    },
    "papermill": {
     "duration": 12089.592142,
     "end_time": "2024-12-25T23:59:07.078296",
     "exception": false,
     "start_time": "2024-12-25T20:37:37.486154",
     "status": "completed"
    },
    "tags": []
   },
   "outputs": [
    {
     "name": "stdout",
     "output_type": "stream",
     "text": [
      "Total Parameter Combinations: 16\n",
      "\n",
      "Evaluating Combination 1/16: {'learning_rate': 0.001, 'dropout_rate': 0.15, 'batch_size': 32, 'epochs': 5}\n"
     ]
    },
    {
     "name": "stderr",
     "output_type": "stream",
     "text": [
      "/usr/local/lib/python3.10/dist-packages/keras/src/layers/core/embedding.py:90: UserWarning: Argument `input_length` is deprecated. Just remove it.\n",
      "  warnings.warn(\n"
     ]
    },
    {
     "name": "stdout",
     "output_type": "stream",
     "text": [
      "Epoch 1/5\n",
      "\u001b[1m1125/1125\u001b[0m \u001b[32m━━━━━━━━━━━━━━━━━━━━\u001b[0m\u001b[37m\u001b[0m \u001b[1m188s\u001b[0m 160ms/step - accuracy: 0.7777 - loss: 0.6996 - val_accuracy: 0.8658 - val_loss: 0.3381 - learning_rate: 0.0010\n",
      "Epoch 2/5\n",
      "\u001b[1m1125/1125\u001b[0m \u001b[32m━━━━━━━━━━━━━━━━━━━━\u001b[0m\u001b[37m\u001b[0m \u001b[1m179s\u001b[0m 159ms/step - accuracy: 0.9060 - loss: 0.2553 - val_accuracy: 0.8628 - val_loss: 0.3350 - learning_rate: 0.0010\n",
      "Epoch 3/5\n",
      "\u001b[1m1125/1125\u001b[0m \u001b[32m━━━━━━━━━━━━━━━━━━━━\u001b[0m\u001b[37m\u001b[0m \u001b[1m179s\u001b[0m 159ms/step - accuracy: 0.9389 - loss: 0.1818 - val_accuracy: 0.8678 - val_loss: 0.3866 - learning_rate: 0.0010\n",
      "Epoch 4/5\n",
      "\u001b[1m1125/1125\u001b[0m \u001b[32m━━━━━━━━━━━━━━━━━━━━\u001b[0m\u001b[37m\u001b[0m \u001b[1m180s\u001b[0m 160ms/step - accuracy: 0.9594 - loss: 0.1283 - val_accuracy: 0.8633 - val_loss: 0.4264 - learning_rate: 0.0010\n",
      "Epoch 5/5\n",
      "\u001b[1m1125/1125\u001b[0m \u001b[32m━━━━━━━━━━━━━━━━━━━━\u001b[0m\u001b[37m\u001b[0m \u001b[1m179s\u001b[0m 159ms/step - accuracy: 0.9718 - loss: 0.0905 - val_accuracy: 0.8696 - val_loss: 0.4686 - learning_rate: 2.0000e-04\n",
      "Accuracy: 86.88%\n",
      "Time Taken for this Combination: 914.96 seconds\n",
      "\n",
      "Evaluating Combination 2/16: {'learning_rate': 0.001, 'dropout_rate': 0.15, 'batch_size': 32, 'epochs': 10}\n",
      "Epoch 1/10\n"
     ]
    },
    {
     "name": "stderr",
     "output_type": "stream",
     "text": [
      "/usr/local/lib/python3.10/dist-packages/keras/src/layers/core/embedding.py:90: UserWarning: Argument `input_length` is deprecated. Just remove it.\n",
      "  warnings.warn(\n"
     ]
    },
    {
     "name": "stdout",
     "output_type": "stream",
     "text": [
      "\u001b[1m1125/1125\u001b[0m \u001b[32m━━━━━━━━━━━━━━━━━━━━\u001b[0m\u001b[37m\u001b[0m \u001b[1m184s\u001b[0m 160ms/step - accuracy: 0.7717 - loss: 0.6989 - val_accuracy: 0.8744 - val_loss: 0.3126 - learning_rate: 0.0010\n",
      "Epoch 2/10\n",
      "\u001b[1m1125/1125\u001b[0m \u001b[32m━━━━━━━━━━━━━━━━━━━━\u001b[0m\u001b[37m\u001b[0m \u001b[1m180s\u001b[0m 160ms/step - accuracy: 0.9062 - loss: 0.2528 - val_accuracy: 0.8720 - val_loss: 0.3616 - learning_rate: 0.0010\n",
      "Epoch 3/10\n",
      "\u001b[1m1125/1125\u001b[0m \u001b[32m━━━━━━━━━━━━━━━━━━━━\u001b[0m\u001b[37m\u001b[0m \u001b[1m180s\u001b[0m 160ms/step - accuracy: 0.9372 - loss: 0.1775 - val_accuracy: 0.8683 - val_loss: 0.3990 - learning_rate: 0.0010\n",
      "Epoch 4/10\n",
      "\u001b[1m1125/1125\u001b[0m \u001b[32m━━━━━━━━━━━━━━━━━━━━\u001b[0m\u001b[37m\u001b[0m \u001b[1m180s\u001b[0m 160ms/step - accuracy: 0.9641 - loss: 0.1122 - val_accuracy: 0.8728 - val_loss: 0.4401 - learning_rate: 2.0000e-04\n",
      "Accuracy: 87.58%\n",
      "Time Taken for this Combination: 730.74 seconds\n",
      "\n",
      "Evaluating Combination 3/16: {'learning_rate': 0.001, 'dropout_rate': 0.15, 'batch_size': 64, 'epochs': 5}\n",
      "Epoch 1/5\n"
     ]
    },
    {
     "name": "stderr",
     "output_type": "stream",
     "text": [
      "/usr/local/lib/python3.10/dist-packages/keras/src/layers/core/embedding.py:90: UserWarning: Argument `input_length` is deprecated. Just remove it.\n",
      "  warnings.warn(\n"
     ]
    },
    {
     "name": "stdout",
     "output_type": "stream",
     "text": [
      "\u001b[1m563/563\u001b[0m \u001b[32m━━━━━━━━━━━━━━━━━━━━\u001b[0m\u001b[37m\u001b[0m \u001b[1m137s\u001b[0m 236ms/step - accuracy: 0.7651 - loss: 0.8610 - val_accuracy: 0.8697 - val_loss: 0.3411 - learning_rate: 0.0010\n",
      "Epoch 2/5\n",
      "\u001b[1m563/563\u001b[0m \u001b[32m━━━━━━━━━━━━━━━━━━━━\u001b[0m\u001b[37m\u001b[0m \u001b[1m133s\u001b[0m 236ms/step - accuracy: 0.9072 - loss: 0.2534 - val_accuracy: 0.8666 - val_loss: 0.3518 - learning_rate: 0.0010\n",
      "Epoch 3/5\n",
      "\u001b[1m563/563\u001b[0m \u001b[32m━━━━━━━━━━━━━━━━━━━━\u001b[0m\u001b[37m\u001b[0m \u001b[1m133s\u001b[0m 236ms/step - accuracy: 0.9354 - loss: 0.1885 - val_accuracy: 0.8658 - val_loss: 0.3778 - learning_rate: 0.0010\n",
      "Epoch 4/5\n",
      "\u001b[1m563/563\u001b[0m \u001b[32m━━━━━━━━━━━━━━━━━━━━\u001b[0m\u001b[37m\u001b[0m \u001b[1m134s\u001b[0m 237ms/step - accuracy: 0.9570 - loss: 0.1335 - val_accuracy: 0.8681 - val_loss: 0.4252 - learning_rate: 2.0000e-04\n",
      "Accuracy: 87.56%\n",
      "Time Taken for this Combination: 544.56 seconds\n",
      "\n",
      "Evaluating Combination 4/16: {'learning_rate': 0.001, 'dropout_rate': 0.15, 'batch_size': 64, 'epochs': 10}\n",
      "Epoch 1/10\n"
     ]
    },
    {
     "name": "stderr",
     "output_type": "stream",
     "text": [
      "/usr/local/lib/python3.10/dist-packages/keras/src/layers/core/embedding.py:90: UserWarning: Argument `input_length` is deprecated. Just remove it.\n",
      "  warnings.warn(\n"
     ]
    },
    {
     "name": "stdout",
     "output_type": "stream",
     "text": [
      "\u001b[1m563/563\u001b[0m \u001b[32m━━━━━━━━━━━━━━━━━━━━\u001b[0m\u001b[37m\u001b[0m \u001b[1m137s\u001b[0m 237ms/step - accuracy: 0.7580 - loss: 0.8680 - val_accuracy: 0.8789 - val_loss: 0.3063 - learning_rate: 0.0010\n",
      "Epoch 2/10\n",
      "\u001b[1m563/563\u001b[0m \u001b[32m━━━━━━━━━━━━━━━━━━━━\u001b[0m\u001b[37m\u001b[0m \u001b[1m134s\u001b[0m 238ms/step - accuracy: 0.9059 - loss: 0.2543 - val_accuracy: 0.8729 - val_loss: 0.3404 - learning_rate: 0.0010\n",
      "Epoch 3/10\n",
      "\u001b[1m563/563\u001b[0m \u001b[32m━━━━━━━━━━━━━━━━━━━━\u001b[0m\u001b[37m\u001b[0m \u001b[1m133s\u001b[0m 236ms/step - accuracy: 0.9362 - loss: 0.1829 - val_accuracy: 0.8599 - val_loss: 0.4369 - learning_rate: 0.0010\n",
      "Epoch 4/10\n",
      "\u001b[1m563/563\u001b[0m \u001b[32m━━━━━━━━━━━━━━━━━━━━\u001b[0m\u001b[37m\u001b[0m \u001b[1m134s\u001b[0m 237ms/step - accuracy: 0.9584 - loss: 0.1313 - val_accuracy: 0.8683 - val_loss: 0.4384 - learning_rate: 2.0000e-04\n",
      "Accuracy: 87.92%\n",
      "Time Taken for this Combination: 545.33 seconds\n",
      "\n",
      "Evaluating Combination 5/16: {'learning_rate': 0.001, 'dropout_rate': 0.2, 'batch_size': 32, 'epochs': 5}\n",
      "Epoch 1/5\n"
     ]
    },
    {
     "name": "stderr",
     "output_type": "stream",
     "text": [
      "/usr/local/lib/python3.10/dist-packages/keras/src/layers/core/embedding.py:90: UserWarning: Argument `input_length` is deprecated. Just remove it.\n",
      "  warnings.warn(\n"
     ]
    },
    {
     "name": "stdout",
     "output_type": "stream",
     "text": [
      "\u001b[1m1125/1125\u001b[0m \u001b[32m━━━━━━━━━━━━━━━━━━━━\u001b[0m\u001b[37m\u001b[0m \u001b[1m182s\u001b[0m 159ms/step - accuracy: 0.7723 - loss: 0.7114 - val_accuracy: 0.8701 - val_loss: 0.3313 - learning_rate: 0.0010\n",
      "Epoch 2/5\n",
      "\u001b[1m1125/1125\u001b[0m \u001b[32m━━━━━━━━━━━━━━━━━━━━\u001b[0m\u001b[37m\u001b[0m \u001b[1m179s\u001b[0m 159ms/step - accuracy: 0.8998 - loss: 0.2690 - val_accuracy: 0.8723 - val_loss: 0.3654 - learning_rate: 0.0010\n",
      "Epoch 3/5\n",
      "\u001b[1m1125/1125\u001b[0m \u001b[32m━━━━━━━━━━━━━━━━━━━━\u001b[0m\u001b[37m\u001b[0m \u001b[1m180s\u001b[0m 160ms/step - accuracy: 0.9292 - loss: 0.2011 - val_accuracy: 0.8663 - val_loss: 0.3850 - learning_rate: 0.0010\n",
      "Epoch 4/5\n",
      "\u001b[1m1125/1125\u001b[0m \u001b[32m━━━━━━━━━━━━━━━━━━━━\u001b[0m\u001b[37m\u001b[0m \u001b[1m179s\u001b[0m 159ms/step - accuracy: 0.9563 - loss: 0.1345 - val_accuracy: 0.8701 - val_loss: 0.4604 - learning_rate: 2.0000e-04\n",
      "Epoch 5/5\n",
      "\u001b[1m1125/1125\u001b[0m \u001b[32m━━━━━━━━━━━━━━━━━━━━\u001b[0m\u001b[37m\u001b[0m \u001b[1m179s\u001b[0m 159ms/step - accuracy: 0.9679 - loss: 0.1048 - val_accuracy: 0.8713 - val_loss: 0.4845 - learning_rate: 2.0000e-04\n",
      "Accuracy: 87.56%\n",
      "Time Taken for this Combination: 906.41 seconds\n",
      "\n",
      "Evaluating Combination 6/16: {'learning_rate': 0.001, 'dropout_rate': 0.2, 'batch_size': 32, 'epochs': 10}\n",
      "Epoch 1/10\n"
     ]
    },
    {
     "name": "stderr",
     "output_type": "stream",
     "text": [
      "/usr/local/lib/python3.10/dist-packages/keras/src/layers/core/embedding.py:90: UserWarning: Argument `input_length` is deprecated. Just remove it.\n",
      "  warnings.warn(\n"
     ]
    },
    {
     "name": "stdout",
     "output_type": "stream",
     "text": [
      "\u001b[1m1125/1125\u001b[0m \u001b[32m━━━━━━━━━━━━━━━━━━━━\u001b[0m\u001b[37m\u001b[0m \u001b[1m186s\u001b[0m 162ms/step - accuracy: 0.7691 - loss: 0.7066 - val_accuracy: 0.8737 - val_loss: 0.3191 - learning_rate: 0.0010\n",
      "Epoch 2/10\n",
      "\u001b[1m1125/1125\u001b[0m \u001b[32m━━━━━━━━━━━━━━━━━━━━\u001b[0m\u001b[37m\u001b[0m \u001b[1m182s\u001b[0m 162ms/step - accuracy: 0.9035 - loss: 0.2629 - val_accuracy: 0.8724 - val_loss: 0.3324 - learning_rate: 0.0010\n",
      "Epoch 3/10\n",
      "\u001b[1m1125/1125\u001b[0m \u001b[32m━━━━━━━━━━━━━━━━━━━━\u001b[0m\u001b[37m\u001b[0m \u001b[1m182s\u001b[0m 162ms/step - accuracy: 0.9352 - loss: 0.1861 - val_accuracy: 0.8672 - val_loss: 0.3982 - learning_rate: 0.0010\n",
      "Epoch 4/10\n",
      "\u001b[1m1125/1125\u001b[0m \u001b[32m━━━━━━━━━━━━━━━━━━━━\u001b[0m\u001b[37m\u001b[0m \u001b[1m182s\u001b[0m 162ms/step - accuracy: 0.9581 - loss: 0.1264 - val_accuracy: 0.8724 - val_loss: 0.4459 - learning_rate: 2.0000e-04\n",
      "Accuracy: 87.10%\n",
      "Time Taken for this Combination: 741.08 seconds\n",
      "\n",
      "Evaluating Combination 7/16: {'learning_rate': 0.001, 'dropout_rate': 0.2, 'batch_size': 64, 'epochs': 5}\n",
      "Epoch 1/5\n"
     ]
    },
    {
     "name": "stderr",
     "output_type": "stream",
     "text": [
      "/usr/local/lib/python3.10/dist-packages/keras/src/layers/core/embedding.py:90: UserWarning: Argument `input_length` is deprecated. Just remove it.\n",
      "  warnings.warn(\n"
     ]
    },
    {
     "name": "stdout",
     "output_type": "stream",
     "text": [
      "\u001b[1m563/563\u001b[0m \u001b[32m━━━━━━━━━━━━━━━━━━━━\u001b[0m\u001b[37m\u001b[0m \u001b[1m137s\u001b[0m 238ms/step - accuracy: 0.7528 - loss: 0.8657 - val_accuracy: 0.8709 - val_loss: 0.3215 - learning_rate: 0.0010\n",
      "Epoch 2/5\n",
      "\u001b[1m563/563\u001b[0m \u001b[32m━━━━━━━━━━━━━━━━━━━━\u001b[0m\u001b[37m\u001b[0m \u001b[1m133s\u001b[0m 237ms/step - accuracy: 0.9029 - loss: 0.2601 - val_accuracy: 0.8737 - val_loss: 0.3278 - learning_rate: 0.0010\n",
      "Epoch 3/5\n",
      "\u001b[1m563/563\u001b[0m \u001b[32m━━━━━━━━━━━━━━━━━━━━\u001b[0m\u001b[37m\u001b[0m \u001b[1m133s\u001b[0m 236ms/step - accuracy: 0.9343 - loss: 0.1909 - val_accuracy: 0.8597 - val_loss: 0.3951 - learning_rate: 0.0010\n",
      "Epoch 4/5\n",
      "\u001b[1m563/563\u001b[0m \u001b[32m━━━━━━━━━━━━━━━━━━━━\u001b[0m\u001b[37m\u001b[0m \u001b[1m134s\u001b[0m 238ms/step - accuracy: 0.9543 - loss: 0.1371 - val_accuracy: 0.8706 - val_loss: 0.3976 - learning_rate: 2.0000e-04\n",
      "Epoch 5/5\n",
      "\u001b[1m563/563\u001b[0m \u001b[32m━━━━━━━━━━━━━━━━━━━━\u001b[0m\u001b[37m\u001b[0m \u001b[1m133s\u001b[0m 236ms/step - accuracy: 0.9660 - loss: 0.1091 - val_accuracy: 0.8733 - val_loss: 0.4459 - learning_rate: 2.0000e-04\n",
      "Accuracy: 87.50%\n",
      "Time Taken for this Combination: 679.05 seconds\n",
      "\n",
      "Evaluating Combination 8/16: {'learning_rate': 0.001, 'dropout_rate': 0.2, 'batch_size': 64, 'epochs': 10}\n",
      "Epoch 1/10\n"
     ]
    },
    {
     "name": "stderr",
     "output_type": "stream",
     "text": [
      "/usr/local/lib/python3.10/dist-packages/keras/src/layers/core/embedding.py:90: UserWarning: Argument `input_length` is deprecated. Just remove it.\n",
      "  warnings.warn(\n"
     ]
    },
    {
     "name": "stdout",
     "output_type": "stream",
     "text": [
      "\u001b[1m563/563\u001b[0m \u001b[32m━━━━━━━━━━━━━━━━━━━━\u001b[0m\u001b[37m\u001b[0m \u001b[1m140s\u001b[0m 241ms/step - accuracy: 0.7410 - loss: 0.8760 - val_accuracy: 0.8738 - val_loss: 0.3250 - learning_rate: 0.0010\n",
      "Epoch 2/10\n",
      "\u001b[1m563/563\u001b[0m \u001b[32m━━━━━━━━━━━━━━━━━━━━\u001b[0m\u001b[37m\u001b[0m \u001b[1m136s\u001b[0m 241ms/step - accuracy: 0.9023 - loss: 0.2699 - val_accuracy: 0.8716 - val_loss: 0.3202 - learning_rate: 0.0010\n",
      "Epoch 3/10\n",
      "\u001b[1m563/563\u001b[0m \u001b[32m━━━━━━━━━━━━━━━━━━━━\u001b[0m\u001b[37m\u001b[0m \u001b[1m135s\u001b[0m 241ms/step - accuracy: 0.9324 - loss: 0.1947 - val_accuracy: 0.8683 - val_loss: 0.3700 - learning_rate: 0.0010\n",
      "Epoch 4/10\n",
      "\u001b[1m563/563\u001b[0m \u001b[32m━━━━━━━━━━━━━━━━━━━━\u001b[0m\u001b[37m\u001b[0m \u001b[1m135s\u001b[0m 239ms/step - accuracy: 0.9442 - loss: 0.1671 - val_accuracy: 0.8627 - val_loss: 0.5031 - learning_rate: 0.0010\n",
      "Accuracy: 87.62%\n",
      "Time Taken for this Combination: 553.86 seconds\n",
      "\n",
      "Evaluating Combination 9/16: {'learning_rate': 0.0003, 'dropout_rate': 0.15, 'batch_size': 32, 'epochs': 5}\n",
      "Epoch 1/5\n"
     ]
    },
    {
     "name": "stderr",
     "output_type": "stream",
     "text": [
      "/usr/local/lib/python3.10/dist-packages/keras/src/layers/core/embedding.py:90: UserWarning: Argument `input_length` is deprecated. Just remove it.\n",
      "  warnings.warn(\n"
     ]
    },
    {
     "name": "stdout",
     "output_type": "stream",
     "text": [
      "\u001b[1m1125/1125\u001b[0m \u001b[32m━━━━━━━━━━━━━━━━━━━━\u001b[0m\u001b[37m\u001b[0m \u001b[1m184s\u001b[0m 161ms/step - accuracy: 0.7325 - loss: 1.0517 - val_accuracy: 0.8806 - val_loss: 0.3100 - learning_rate: 3.0000e-04\n",
      "Epoch 2/5\n",
      "\u001b[1m1125/1125\u001b[0m \u001b[32m━━━━━━━━━━━━━━━━━━━━\u001b[0m\u001b[37m\u001b[0m \u001b[1m181s\u001b[0m 161ms/step - accuracy: 0.9039 - loss: 0.2607 - val_accuracy: 0.8784 - val_loss: 0.3302 - learning_rate: 3.0000e-04\n",
      "Epoch 3/5\n",
      "\u001b[1m1125/1125\u001b[0m \u001b[32m━━━━━━━━━━━━━━━━━━━━\u001b[0m\u001b[37m\u001b[0m \u001b[1m181s\u001b[0m 161ms/step - accuracy: 0.9321 - loss: 0.1963 - val_accuracy: 0.8686 - val_loss: 0.3538 - learning_rate: 3.0000e-04\n",
      "Epoch 4/5\n",
      "\u001b[1m1125/1125\u001b[0m \u001b[32m━━━━━━━━━━━━━━━━━━━━\u001b[0m\u001b[37m\u001b[0m \u001b[1m180s\u001b[0m 160ms/step - accuracy: 0.9550 - loss: 0.1440 - val_accuracy: 0.8694 - val_loss: 0.3844 - learning_rate: 6.0000e-05\n",
      "Accuracy: 88.10%\n",
      "Time Taken for this Combination: 734.42 seconds\n",
      "\n",
      "Evaluating Combination 10/16: {'learning_rate': 0.0003, 'dropout_rate': 0.15, 'batch_size': 32, 'epochs': 10}\n",
      "Epoch 1/10\n"
     ]
    },
    {
     "name": "stderr",
     "output_type": "stream",
     "text": [
      "/usr/local/lib/python3.10/dist-packages/keras/src/layers/core/embedding.py:90: UserWarning: Argument `input_length` is deprecated. Just remove it.\n",
      "  warnings.warn(\n"
     ]
    },
    {
     "name": "stdout",
     "output_type": "stream",
     "text": [
      "\u001b[1m1125/1125\u001b[0m \u001b[32m━━━━━━━━━━━━━━━━━━━━\u001b[0m\u001b[37m\u001b[0m \u001b[1m183s\u001b[0m 160ms/step - accuracy: 0.7297 - loss: 1.0546 - val_accuracy: 0.8708 - val_loss: 0.3234 - learning_rate: 3.0000e-04\n",
      "Epoch 2/10\n",
      "\u001b[1m1125/1125\u001b[0m \u001b[32m━━━━━━━━━━━━━━━━━━━━\u001b[0m\u001b[37m\u001b[0m \u001b[1m181s\u001b[0m 161ms/step - accuracy: 0.9029 - loss: 0.2676 - val_accuracy: 0.8681 - val_loss: 0.3240 - learning_rate: 3.0000e-04\n",
      "Epoch 3/10\n",
      "\u001b[1m1125/1125\u001b[0m \u001b[32m━━━━━━━━━━━━━━━━━━━━\u001b[0m\u001b[37m\u001b[0m \u001b[1m180s\u001b[0m 160ms/step - accuracy: 0.9264 - loss: 0.2064 - val_accuracy: 0.8710 - val_loss: 0.3832 - learning_rate: 3.0000e-04\n",
      "Epoch 4/10\n",
      "\u001b[1m1125/1125\u001b[0m \u001b[32m━━━━━━━━━━━━━━━━━━━━\u001b[0m\u001b[37m\u001b[0m \u001b[1m181s\u001b[0m 161ms/step - accuracy: 0.9547 - loss: 0.1438 - val_accuracy: 0.8707 - val_loss: 0.4067 - learning_rate: 6.0000e-05\n",
      "Epoch 5/10\n",
      "\u001b[1m1125/1125\u001b[0m \u001b[32m━━━━━━━━━━━━━━━━━━━━\u001b[0m\u001b[37m\u001b[0m \u001b[1m181s\u001b[0m 161ms/step - accuracy: 0.9628 - loss: 0.1227 - val_accuracy: 0.8717 - val_loss: 0.4286 - learning_rate: 6.0000e-05\n",
      "Epoch 6/10\n",
      "\u001b[1m1125/1125\u001b[0m \u001b[32m━━━━━━━━━━━━━━━━━━━━\u001b[0m\u001b[37m\u001b[0m \u001b[1m181s\u001b[0m 161ms/step - accuracy: 0.9697 - loss: 0.1057 - val_accuracy: 0.8706 - val_loss: 0.4213 - learning_rate: 1.2000e-05\n",
      "Epoch 7/10\n",
      "\u001b[1m1125/1125\u001b[0m \u001b[32m━━━━━━━━━━━━━━━━━━━━\u001b[0m\u001b[37m\u001b[0m \u001b[1m182s\u001b[0m 161ms/step - accuracy: 0.9730 - loss: 0.0989 - val_accuracy: 0.8694 - val_loss: 0.4219 - learning_rate: 1.2000e-05\n",
      "Epoch 8/10\n",
      "\u001b[1m1125/1125\u001b[0m \u001b[32m━━━━━━━━━━━━━━━━━━━━\u001b[0m\u001b[37m\u001b[0m \u001b[1m179s\u001b[0m 159ms/step - accuracy: 0.9729 - loss: 0.0966 - val_accuracy: 0.8694 - val_loss: 0.4243 - learning_rate: 1.0000e-05\n",
      "Accuracy: 87.44%\n",
      "Time Taken for this Combination: 1455.40 seconds\n",
      "\n",
      "Evaluating Combination 11/16: {'learning_rate': 0.0003, 'dropout_rate': 0.15, 'batch_size': 64, 'epochs': 5}\n",
      "Epoch 1/5\n"
     ]
    },
    {
     "name": "stderr",
     "output_type": "stream",
     "text": [
      "/usr/local/lib/python3.10/dist-packages/keras/src/layers/core/embedding.py:90: UserWarning: Argument `input_length` is deprecated. Just remove it.\n",
      "  warnings.warn(\n"
     ]
    },
    {
     "name": "stdout",
     "output_type": "stream",
     "text": [
      "\u001b[1m563/563\u001b[0m \u001b[32m━━━━━━━━━━━━━━━━━━━━\u001b[0m\u001b[37m\u001b[0m \u001b[1m139s\u001b[0m 239ms/step - accuracy: 0.7042 - loss: 1.3692 - val_accuracy: 0.8719 - val_loss: 0.3484 - learning_rate: 3.0000e-04\n",
      "Epoch 2/5\n",
      "\u001b[1m563/563\u001b[0m \u001b[32m━━━━━━━━━━━━━━━━━━━━\u001b[0m\u001b[37m\u001b[0m \u001b[1m134s\u001b[0m 238ms/step - accuracy: 0.8974 - loss: 0.2889 - val_accuracy: 0.8750 - val_loss: 0.3166 - learning_rate: 3.0000e-04\n",
      "Epoch 3/5\n",
      "\u001b[1m563/563\u001b[0m \u001b[32m━━━━━━━━━━━━━━━━━━━━\u001b[0m\u001b[37m\u001b[0m \u001b[1m134s\u001b[0m 237ms/step - accuracy: 0.9243 - loss: 0.2156 - val_accuracy: 0.8720 - val_loss: 0.3343 - learning_rate: 3.0000e-04\n",
      "Epoch 4/5\n",
      "\u001b[1m563/563\u001b[0m \u001b[32m━━━━━━━━━━━━━━━━━━━━\u001b[0m\u001b[37m\u001b[0m \u001b[1m134s\u001b[0m 238ms/step - accuracy: 0.9467 - loss: 0.1686 - val_accuracy: 0.8724 - val_loss: 0.3791 - learning_rate: 3.0000e-04\n",
      "Epoch 5/5\n",
      "\u001b[1m563/563\u001b[0m \u001b[32m━━━━━━━━━━━━━━━━━━━━\u001b[0m\u001b[37m\u001b[0m \u001b[1m133s\u001b[0m 236ms/step - accuracy: 0.9596 - loss: 0.1279 - val_accuracy: 0.8721 - val_loss: 0.4158 - learning_rate: 6.0000e-05\n",
      "Accuracy: 87.28%\n",
      "Time Taken for this Combination: 681.21 seconds\n",
      "\n",
      "Evaluating Combination 12/16: {'learning_rate': 0.0003, 'dropout_rate': 0.15, 'batch_size': 64, 'epochs': 10}\n",
      "Epoch 1/10\n"
     ]
    },
    {
     "name": "stderr",
     "output_type": "stream",
     "text": [
      "/usr/local/lib/python3.10/dist-packages/keras/src/layers/core/embedding.py:90: UserWarning: Argument `input_length` is deprecated. Just remove it.\n",
      "  warnings.warn(\n"
     ]
    },
    {
     "name": "stdout",
     "output_type": "stream",
     "text": [
      "\u001b[1m563/563\u001b[0m \u001b[32m━━━━━━━━━━━━━━━━━━━━\u001b[0m\u001b[37m\u001b[0m \u001b[1m137s\u001b[0m 236ms/step - accuracy: 0.7098 - loss: 1.3539 - val_accuracy: 0.8704 - val_loss: 0.3504 - learning_rate: 3.0000e-04\n",
      "Epoch 2/10\n",
      "\u001b[1m563/563\u001b[0m \u001b[32m━━━━━━━━━━━━━━━━━━━━\u001b[0m\u001b[37m\u001b[0m \u001b[1m133s\u001b[0m 237ms/step - accuracy: 0.9013 - loss: 0.2820 - val_accuracy: 0.8801 - val_loss: 0.3278 - learning_rate: 3.0000e-04\n",
      "Epoch 3/10\n",
      "\u001b[1m563/563\u001b[0m \u001b[32m━━━━━━━━━━━━━━━━━━━━\u001b[0m\u001b[37m\u001b[0m \u001b[1m134s\u001b[0m 239ms/step - accuracy: 0.9298 - loss: 0.2115 - val_accuracy: 0.8751 - val_loss: 0.3732 - learning_rate: 3.0000e-04\n",
      "Epoch 4/10\n",
      "\u001b[1m563/563\u001b[0m \u001b[32m━━━━━━━━━━━━━━━━━━━━\u001b[0m\u001b[37m\u001b[0m \u001b[1m134s\u001b[0m 238ms/step - accuracy: 0.9452 - loss: 0.1699 - val_accuracy: 0.8720 - val_loss: 0.4040 - learning_rate: 3.0000e-04\n",
      "Epoch 5/10\n",
      "\u001b[1m563/563\u001b[0m \u001b[32m━━━━━━━━━━━━━━━━━━━━\u001b[0m\u001b[37m\u001b[0m \u001b[1m133s\u001b[0m 237ms/step - accuracy: 0.9626 - loss: 0.1231 - val_accuracy: 0.8722 - val_loss: 0.4029 - learning_rate: 6.0000e-05\n",
      "Accuracy: 88.06%\n",
      "Time Taken for this Combination: 679.34 seconds\n",
      "\n",
      "Evaluating Combination 13/16: {'learning_rate': 0.0003, 'dropout_rate': 0.2, 'batch_size': 32, 'epochs': 5}\n",
      "Epoch 1/5\n"
     ]
    },
    {
     "name": "stderr",
     "output_type": "stream",
     "text": [
      "/usr/local/lib/python3.10/dist-packages/keras/src/layers/core/embedding.py:90: UserWarning: Argument `input_length` is deprecated. Just remove it.\n",
      "  warnings.warn(\n"
     ]
    },
    {
     "name": "stdout",
     "output_type": "stream",
     "text": [
      "\u001b[1m1125/1125\u001b[0m \u001b[32m━━━━━━━━━━━━━━━━━━━━\u001b[0m\u001b[37m\u001b[0m \u001b[1m189s\u001b[0m 165ms/step - accuracy: 0.7288 - loss: 1.0720 - val_accuracy: 0.8790 - val_loss: 0.3112 - learning_rate: 3.0000e-04\n",
      "Epoch 2/5\n",
      "\u001b[1m1125/1125\u001b[0m \u001b[32m━━━━━━━━━━━━━━━━━━━━\u001b[0m\u001b[37m\u001b[0m \u001b[1m183s\u001b[0m 163ms/step - accuracy: 0.8966 - loss: 0.2770 - val_accuracy: 0.8741 - val_loss: 0.3163 - learning_rate: 3.0000e-04\n",
      "Epoch 3/5\n",
      "\u001b[1m1125/1125\u001b[0m \u001b[32m━━━━━━━━━━━━━━━━━━━━\u001b[0m\u001b[37m\u001b[0m \u001b[1m184s\u001b[0m 164ms/step - accuracy: 0.9272 - loss: 0.2097 - val_accuracy: 0.8713 - val_loss: 0.3495 - learning_rate: 3.0000e-04\n",
      "Epoch 4/5\n",
      "\u001b[1m1125/1125\u001b[0m \u001b[32m━━━━━━━━━━━━━━━━━━━━\u001b[0m\u001b[37m\u001b[0m \u001b[1m184s\u001b[0m 163ms/step - accuracy: 0.9526 - loss: 0.1521 - val_accuracy: 0.8751 - val_loss: 0.3788 - learning_rate: 6.0000e-05\n",
      "Accuracy: 88.02%\n",
      "Time Taken for this Combination: 749.05 seconds\n",
      "\n",
      "Evaluating Combination 14/16: {'learning_rate': 0.0003, 'dropout_rate': 0.2, 'batch_size': 32, 'epochs': 10}\n",
      "Epoch 1/10\n"
     ]
    },
    {
     "name": "stderr",
     "output_type": "stream",
     "text": [
      "/usr/local/lib/python3.10/dist-packages/keras/src/layers/core/embedding.py:90: UserWarning: Argument `input_length` is deprecated. Just remove it.\n",
      "  warnings.warn(\n"
     ]
    },
    {
     "name": "stdout",
     "output_type": "stream",
     "text": [
      "\u001b[1m1125/1125\u001b[0m \u001b[32m━━━━━━━━━━━━━━━━━━━━\u001b[0m\u001b[37m\u001b[0m \u001b[1m187s\u001b[0m 163ms/step - accuracy: 0.7319 - loss: 1.0585 - val_accuracy: 0.8744 - val_loss: 0.3224 - learning_rate: 3.0000e-04\n",
      "Epoch 2/10\n",
      "\u001b[1m1125/1125\u001b[0m \u001b[32m━━━━━━━━━━━━━━━━━━━━\u001b[0m\u001b[37m\u001b[0m \u001b[1m184s\u001b[0m 164ms/step - accuracy: 0.9021 - loss: 0.2691 - val_accuracy: 0.8774 - val_loss: 0.3207 - learning_rate: 3.0000e-04\n",
      "Epoch 3/10\n",
      "\u001b[1m1125/1125\u001b[0m \u001b[32m━━━━━━━━━━━━━━━━━━━━\u001b[0m\u001b[37m\u001b[0m \u001b[1m183s\u001b[0m 162ms/step - accuracy: 0.9291 - loss: 0.2066 - val_accuracy: 0.8718 - val_loss: 0.3511 - learning_rate: 3.0000e-04\n",
      "Epoch 4/10\n",
      "\u001b[1m1125/1125\u001b[0m \u001b[32m━━━━━━━━━━━━━━━━━━━━\u001b[0m\u001b[37m\u001b[0m \u001b[1m185s\u001b[0m 164ms/step - accuracy: 0.9440 - loss: 0.1690 - val_accuracy: 0.8672 - val_loss: 0.4065 - learning_rate: 3.0000e-04\n",
      "Epoch 5/10\n",
      "\u001b[1m1125/1125\u001b[0m \u001b[32m━━━━━━━━━━━━━━━━━━━━\u001b[0m\u001b[37m\u001b[0m \u001b[1m185s\u001b[0m 164ms/step - accuracy: 0.9610 - loss: 0.1258 - val_accuracy: 0.8714 - val_loss: 0.4313 - learning_rate: 6.0000e-05\n",
      "Accuracy: 87.66%\n",
      "Time Taken for this Combination: 932.16 seconds\n",
      "\n",
      "Evaluating Combination 15/16: {'learning_rate': 0.0003, 'dropout_rate': 0.2, 'batch_size': 64, 'epochs': 5}\n",
      "Epoch 1/5\n"
     ]
    },
    {
     "name": "stderr",
     "output_type": "stream",
     "text": [
      "/usr/local/lib/python3.10/dist-packages/keras/src/layers/core/embedding.py:90: UserWarning: Argument `input_length` is deprecated. Just remove it.\n",
      "  warnings.warn(\n"
     ]
    },
    {
     "name": "stdout",
     "output_type": "stream",
     "text": [
      "\u001b[1m563/563\u001b[0m \u001b[32m━━━━━━━━━━━━━━━━━━━━\u001b[0m\u001b[37m\u001b[0m \u001b[1m138s\u001b[0m 239ms/step - accuracy: 0.6916 - loss: 1.3763 - val_accuracy: 0.8779 - val_loss: 0.3382 - learning_rate: 3.0000e-04\n",
      "Epoch 2/5\n",
      "\u001b[1m563/563\u001b[0m \u001b[32m━━━━━━━━━━━━━━━━━━━━\u001b[0m\u001b[37m\u001b[0m \u001b[1m134s\u001b[0m 237ms/step - accuracy: 0.8970 - loss: 0.2995 - val_accuracy: 0.8720 - val_loss: 0.3166 - learning_rate: 3.0000e-04\n",
      "Epoch 3/5\n",
      "\u001b[1m563/563\u001b[0m \u001b[32m━━━━━━━━━━━━━━━━━━━━\u001b[0m\u001b[37m\u001b[0m \u001b[1m135s\u001b[0m 239ms/step - accuracy: 0.9251 - loss: 0.2234 - val_accuracy: 0.8752 - val_loss: 0.3442 - learning_rate: 3.0000e-04\n",
      "Epoch 4/5\n",
      "\u001b[1m563/563\u001b[0m \u001b[32m━━━━━━━━━━━━━━━━━━━━\u001b[0m\u001b[37m\u001b[0m \u001b[1m135s\u001b[0m 239ms/step - accuracy: 0.9409 - loss: 0.1827 - val_accuracy: 0.8721 - val_loss: 0.4026 - learning_rate: 3.0000e-04\n",
      "Accuracy: 88.12%\n",
      "Time Taken for this Combination: 549.75 seconds\n",
      "\n",
      "Evaluating Combination 16/16: {'learning_rate': 0.0003, 'dropout_rate': 0.2, 'batch_size': 64, 'epochs': 10}\n",
      "Epoch 1/10\n"
     ]
    },
    {
     "name": "stderr",
     "output_type": "stream",
     "text": [
      "/usr/local/lib/python3.10/dist-packages/keras/src/layers/core/embedding.py:90: UserWarning: Argument `input_length` is deprecated. Just remove it.\n",
      "  warnings.warn(\n"
     ]
    },
    {
     "name": "stdout",
     "output_type": "stream",
     "text": [
      "\u001b[1m563/563\u001b[0m \u001b[32m━━━━━━━━━━━━━━━━━━━━\u001b[0m\u001b[37m\u001b[0m \u001b[1m140s\u001b[0m 242ms/step - accuracy: 0.6996 - loss: 1.3704 - val_accuracy: 0.8698 - val_loss: 0.3599 - learning_rate: 3.0000e-04\n",
      "Epoch 2/10\n",
      "\u001b[1m563/563\u001b[0m \u001b[32m━━━━━━━━━━━━━━━━━━━━\u001b[0m\u001b[37m\u001b[0m \u001b[1m136s\u001b[0m 241ms/step - accuracy: 0.8931 - loss: 0.3058 - val_accuracy: 0.8779 - val_loss: 0.3139 - learning_rate: 3.0000e-04\n",
      "Epoch 3/10\n",
      "\u001b[1m563/563\u001b[0m \u001b[32m━━━━━━━━━━━━━━━━━━━━\u001b[0m\u001b[37m\u001b[0m \u001b[1m136s\u001b[0m 241ms/step - accuracy: 0.9218 - loss: 0.2253 - val_accuracy: 0.8766 - val_loss: 0.3536 - learning_rate: 3.0000e-04\n",
      "Epoch 4/10\n",
      "\u001b[1m563/563\u001b[0m \u001b[32m━━━━━━━━━━━━━━━━━━━━\u001b[0m\u001b[37m\u001b[0m \u001b[1m137s\u001b[0m 243ms/step - accuracy: 0.9389 - loss: 0.1877 - val_accuracy: 0.8719 - val_loss: 0.3757 - learning_rate: 3.0000e-04\n",
      "Epoch 5/10\n",
      "\u001b[1m563/563\u001b[0m \u001b[32m━━━━━━━━━━━━━━━━━━━━\u001b[0m\u001b[37m\u001b[0m \u001b[1m136s\u001b[0m 241ms/step - accuracy: 0.9569 - loss: 0.1417 - val_accuracy: 0.8714 - val_loss: 0.4106 - learning_rate: 6.0000e-05\n",
      "Accuracy: 87.72%\n",
      "Time Taken for this Combination: 692.25 seconds\n",
      "\n",
      "Best Parameters: {'learning_rate': 0.0003, 'dropout_rate': 0.2, 'batch_size': 64, 'epochs': 5}\n",
      "Best Accuracy: 88.12%\n",
      "Total Time Taken: 201.49 minutes\n"
     ]
    }
   ],
   "source": [
    "import time\n",
    "from sklearn.metrics import accuracy_score\n",
    "from tensorflow.keras.callbacks import EarlyStopping, ReduceLROnPlateau\n",
    "from sklearn.model_selection import train_test_split\n",
    "\n",
    "# Define the model creation function\n",
    "def create_model(learning_rate=0.001, dropout_rate=0.2):\n",
    "    model = Sequential([\n",
    "        Embedding(input_dim=20000, output_dim=200, input_length=100),\n",
    "        Dropout(dropout_rate),\n",
    "        Bidirectional(LSTM(128, dropout=dropout_rate, recurrent_dropout=dropout_rate)),\n",
    "        Dense(128, activation='relu', kernel_regularizer=regularizers.l2(0.01)),\n",
    "        Dropout(dropout_rate),\n",
    "        Dense(1, activation='sigmoid')\n",
    "    ])\n",
    "    model.compile(optimizer=Adam(learning_rate=learning_rate), loss='binary_crossentropy', metrics=['accuracy'])\n",
    "    return model\n",
    "\n",
    "# Custom function to fit and evaluate a model\n",
    "def fit_and_evaluate(params):\n",
    "    model = create_model(\n",
    "        learning_rate=params['learning_rate'],\n",
    "        dropout_rate=params['dropout_rate']\n",
    "    )\n",
    "    early_stopping = EarlyStopping(monitor='val_accuracy', patience=3, restore_best_weights=True)\n",
    "    reduce_lr = ReduceLROnPlateau(monitor='val_loss', factor=0.2, patience=2, min_lr=0.00001)\n",
    "\n",
    "    model.fit(\n",
    "        X_train_pad,\n",
    "        y_train,\n",
    "        validation_split=0.2,\n",
    "        epochs=params['epochs'],\n",
    "        batch_size=params['batch_size'],\n",
    "        callbacks=[early_stopping, reduce_lr],\n",
    "        verbose=1  # Show progress within each model fit\n",
    "    )\n",
    "\n",
    "    # Evaluate the model\n",
    "    predictions = model.predict(X_test_pad, verbose=0)\n",
    "    predictions = (predictions > 0.5).astype(int).flatten()\n",
    "    return accuracy_score(y_test, predictions)\n",
    "\n",
    "# Define parameter grid\n",
    "param_grid = {\n",
    "    'learning_rate': [0.001, 0.0003],\n",
    "    'dropout_rate': [0.15, 0.2],\n",
    "    'batch_size': [32, 64],\n",
    "    'epochs': [5, 10]   #Could have done 100 , but it's taking too long\n",
    "}\n",
    "\n",
    "# Perform manual grid search with progress tracking\n",
    "best_params = None\n",
    "best_accuracy = 0\n",
    "\n",
    "# Total combinations\n",
    "total_combinations = len(param_grid['learning_rate']) * len(param_grid['dropout_rate']) * len(param_grid['batch_size']) * len(param_grid['epochs'])\n",
    "current_combination = 0\n",
    "\n",
    "print(f\"Total Parameter Combinations: {total_combinations}\")\n",
    "start_time = time.time()\n",
    "\n",
    "for learning_rate in param_grid['learning_rate']:\n",
    "    for dropout_rate in param_grid['dropout_rate']:\n",
    "        for batch_size in param_grid['batch_size']:\n",
    "            for epochs in param_grid['epochs']:\n",
    "                current_combination += 1\n",
    "                params = {\n",
    "                    'learning_rate': learning_rate,\n",
    "                    'dropout_rate': dropout_rate,\n",
    "                    'batch_size': batch_size,\n",
    "                    'epochs': epochs\n",
    "                }\n",
    "                print(f\"\\nEvaluating Combination {current_combination}/{total_combinations}: {params}\")\n",
    "                iteration_start = time.time()\n",
    "                accuracy = fit_and_evaluate(params)\n",
    "                iteration_end = time.time()\n",
    "\n",
    "                print(f\"Accuracy: {accuracy * 100:.2f}%\")\n",
    "                print(f\"Time Taken for this Combination: {iteration_end - iteration_start:.2f} seconds\")\n",
    "\n",
    "                if accuracy > best_accuracy:\n",
    "                    best_accuracy = accuracy\n",
    "                    best_params = params\n",
    "\n",
    "end_time = time.time()\n",
    "\n",
    "print(f\"\\nBest Parameters: {best_params}\")\n",
    "print(f\"Best Accuracy: {best_accuracy * 100:.2f}%\")\n",
    "print(f\"Total Time Taken: {(end_time - start_time) / 60:.2f} minutes\")\n"
   ]
  }
 ],
 "metadata": {
  "kaggle": {
   "accelerator": "nvidiaTeslaT4",
   "dataSources": [
    {
     "datasetId": 134715,
     "sourceId": 320111,
     "sourceType": "datasetVersion"
    }
   ],
   "dockerImageVersionId": 30822,
   "isGpuEnabled": true,
   "isInternetEnabled": true,
   "language": "python",
   "sourceType": "notebook"
  },
  "kernelspec": {
   "display_name": "Python 3",
   "language": "python",
   "name": "python3"
  },
  "language_info": {
   "codemirror_mode": {
    "name": "ipython",
    "version": 3
   },
   "file_extension": ".py",
   "mimetype": "text/x-python",
   "name": "python",
   "nbconvert_exporter": "python",
   "pygments_lexer": "ipython3",
   "version": "3.10.12"
  },
  "papermill": {
   "default_parameters": {},
   "duration": 12137.294131,
   "end_time": "2024-12-25T23:59:20.125564",
   "environment_variables": {},
   "exception": true,
   "input_path": "__notebook__.ipynb",
   "output_path": "__notebook__.ipynb",
   "parameters": {},
   "start_time": "2024-12-25T20:37:02.831433",
   "version": "2.6.0"
  }
 },
 "nbformat": 4,
 "nbformat_minor": 5
}

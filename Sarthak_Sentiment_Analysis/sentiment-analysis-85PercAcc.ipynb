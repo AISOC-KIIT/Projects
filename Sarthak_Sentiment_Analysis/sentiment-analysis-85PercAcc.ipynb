{
 "cells": [
  {
   "cell_type": "code",
   "execution_count": 1,
   "id": "850283be",
   "metadata": {
    "_cell_guid": "b1076dfc-b9ad-4769-8c92-a6c4dae69d19",
    "_uuid": "8f2839f25d086af736a60e9eeb907d3b93b6e0e5",
    "execution": {
     "iopub.execute_input": "2024-12-23T06:38:42.602015Z",
     "iopub.status.busy": "2024-12-23T06:38:42.601759Z",
     "iopub.status.idle": "2024-12-23T06:38:42.605664Z",
     "shell.execute_reply": "2024-12-23T06:38:42.605020Z"
    },
    "papermill": {
     "duration": 0.009076,
     "end_time": "2024-12-23T06:38:42.606864",
     "exception": false,
     "start_time": "2024-12-23T06:38:42.597788",
     "status": "completed"
    },
    "tags": []
   },
   "outputs": [],
   "source": [
    "#!pip install pandas numpy "
   ]
  },
  {
   "cell_type": "code",
   "execution_count": 2,
   "id": "77bd151d",
   "metadata": {
    "execution": {
     "iopub.execute_input": "2024-12-23T06:38:42.612790Z",
     "iopub.status.busy": "2024-12-23T06:38:42.612591Z",
     "iopub.status.idle": "2024-12-23T06:38:51.016536Z",
     "shell.execute_reply": "2024-12-23T06:38:51.015798Z"
    },
    "papermill": {
     "duration": 8.408434,
     "end_time": "2024-12-23T06:38:51.018091",
     "exception": false,
     "start_time": "2024-12-23T06:38:42.609657",
     "status": "completed"
    },
    "tags": []
   },
   "outputs": [],
   "source": [
    "import pandas as pd\n",
    "import re\n",
    "from sklearn.model_selection import train_test_split\n",
    "from tensorflow.keras.preprocessing.text import Tokenizer\n",
    "from tensorflow.keras.preprocessing.sequence import pad_sequences\n",
    "from tensorflow.keras.models import Sequential\n",
    "from tensorflow.keras.layers import Embedding, LSTM, Bidirectional, Dense, Dropout\n",
    "from tensorflow.keras.optimizers import Adam\n",
    "from tensorflow.keras.callbacks import EarlyStopping, ReduceLROnPlateau\n",
    "from tensorflow.keras import regularizers"
   ]
  },
  {
   "cell_type": "code",
   "execution_count": 3,
   "id": "e7aa5ae5",
   "metadata": {
    "execution": {
     "iopub.execute_input": "2024-12-23T06:38:51.024437Z",
     "iopub.status.busy": "2024-12-23T06:38:51.023975Z",
     "iopub.status.idle": "2024-12-23T06:38:52.276272Z",
     "shell.execute_reply": "2024-12-23T06:38:52.275276Z"
    },
    "papermill": {
     "duration": 1.256749,
     "end_time": "2024-12-23T06:38:52.277664",
     "exception": false,
     "start_time": "2024-12-23T06:38:51.020915",
     "status": "completed"
    },
    "tags": []
   },
   "outputs": [
    {
     "name": "stdout",
     "output_type": "stream",
     "text": [
      "                                              review sentiment\n",
      "0  One of the other reviewers has mentioned that ...  positive\n",
      "1  A wonderful little production. <br /><br />The...  positive\n",
      "2  I thought this was a wonderful way to spend ti...  positive\n",
      "3  Basically there's a family where a little boy ...  negative\n",
      "4  Petter Mattei's \"Love in the Time of Money\" is...  positive\n",
      "5  Probably my all-time favorite movie, a story o...  positive\n",
      "6  I sure would like to see a resurrection of a u...  positive\n",
      "7  This show was an amazing, fresh & innovative i...  negative\n",
      "8  Encouraged by the positive comments about this...  negative\n",
      "9  If you like original gut wrenching laughter yo...  positive\n"
     ]
    }
   ],
   "source": [
    "#Showing loaded data\n",
    "file_path = '/kaggle/input/imdb-dataset-of-50k-movie-reviews/IMDB Dataset.csv'\n",
    "imdb_data = pd.read_csv(file_path)\n",
    "print(imdb_data.head(10))"
   ]
  },
  {
   "cell_type": "code",
   "execution_count": 4,
   "id": "b428f04c",
   "metadata": {
    "execution": {
     "iopub.execute_input": "2024-12-23T06:38:52.283880Z",
     "iopub.status.busy": "2024-12-23T06:38:52.283637Z",
     "iopub.status.idle": "2024-12-23T06:38:53.579505Z",
     "shell.execute_reply": "2024-12-23T06:38:53.578589Z"
    },
    "papermill": {
     "duration": 1.30052,
     "end_time": "2024-12-23T06:38:53.581027",
     "exception": false,
     "start_time": "2024-12-23T06:38:52.280507",
     "status": "completed"
    },
    "tags": []
   },
   "outputs": [
    {
     "data": {
      "text/html": [
       "<div>\n",
       "<style scoped>\n",
       "    .dataframe tbody tr th:only-of-type {\n",
       "        vertical-align: middle;\n",
       "    }\n",
       "\n",
       "    .dataframe tbody tr th {\n",
       "        vertical-align: top;\n",
       "    }\n",
       "\n",
       "    .dataframe thead th {\n",
       "        text-align: right;\n",
       "    }\n",
       "</style>\n",
       "<table border=\"1\" class=\"dataframe\">\n",
       "  <thead>\n",
       "    <tr style=\"text-align: right;\">\n",
       "      <th></th>\n",
       "      <th>review</th>\n",
       "      <th>sentiment</th>\n",
       "    </tr>\n",
       "  </thead>\n",
       "  <tbody>\n",
       "    <tr>\n",
       "      <th>0</th>\n",
       "      <td>one of the other reviewers has mentioned that ...</td>\n",
       "      <td>1</td>\n",
       "    </tr>\n",
       "    <tr>\n",
       "      <th>1</th>\n",
       "      <td>a wonderful little production   the filming te...</td>\n",
       "      <td>1</td>\n",
       "    </tr>\n",
       "    <tr>\n",
       "      <th>2</th>\n",
       "      <td>i thought this was a wonderful way to spend ti...</td>\n",
       "      <td>1</td>\n",
       "    </tr>\n",
       "    <tr>\n",
       "      <th>3</th>\n",
       "      <td>basically theres a family where a little boy j...</td>\n",
       "      <td>0</td>\n",
       "    </tr>\n",
       "    <tr>\n",
       "      <th>4</th>\n",
       "      <td>petter matteis love in the time of money is a ...</td>\n",
       "      <td>1</td>\n",
       "    </tr>\n",
       "    <tr>\n",
       "      <th>5</th>\n",
       "      <td>probably my alltime favorite movie a story of ...</td>\n",
       "      <td>1</td>\n",
       "    </tr>\n",
       "    <tr>\n",
       "      <th>6</th>\n",
       "      <td>i sure would like to see a resurrection of a u...</td>\n",
       "      <td>1</td>\n",
       "    </tr>\n",
       "    <tr>\n",
       "      <th>7</th>\n",
       "      <td>this show was an amazing fresh  innovative ide...</td>\n",
       "      <td>0</td>\n",
       "    </tr>\n",
       "    <tr>\n",
       "      <th>8</th>\n",
       "      <td>encouraged by the positive comments about this...</td>\n",
       "      <td>0</td>\n",
       "    </tr>\n",
       "    <tr>\n",
       "      <th>9</th>\n",
       "      <td>if you like original gut wrenching laughter yo...</td>\n",
       "      <td>1</td>\n",
       "    </tr>\n",
       "  </tbody>\n",
       "</table>\n",
       "</div>"
      ],
      "text/plain": [
       "                                              review  sentiment\n",
       "0  one of the other reviewers has mentioned that ...          1\n",
       "1  a wonderful little production   the filming te...          1\n",
       "2  i thought this was a wonderful way to spend ti...          1\n",
       "3  basically theres a family where a little boy j...          0\n",
       "4  petter matteis love in the time of money is a ...          1\n",
       "5  probably my alltime favorite movie a story of ...          1\n",
       "6  i sure would like to see a resurrection of a u...          1\n",
       "7  this show was an amazing fresh  innovative ide...          0\n",
       "8  encouraged by the positive comments about this...          0\n",
       "9  if you like original gut wrenching laughter yo...          1"
      ]
     },
     "execution_count": 4,
     "metadata": {},
     "output_type": "execute_result"
    }
   ],
   "source": [
    "#Data cleaning\n",
    "# Encode sentiment labels as numeric values\n",
    "imdb_data['sentiment'] = imdb_data['sentiment'].map({'positive': 1, 'negative': 0})\n",
    "\n",
    "imdb_data['sentiment'] = imdb_data['sentiment'].astype(int)\n",
    "def clean_text(text):\n",
    "    text = re.sub('<br />', ' ', text)  # Remove HTML tags\n",
    "    text = re.sub(r'[^a-zA-Z\\s]', '', text)  # Keep only letters\n",
    "    text = text.lower()  # Convert to lowercase\n",
    "    return text\n",
    "imdb_data['review'] = imdb_data['review'].apply(clean_text)\n",
    "imdb_data.head(10)"
   ]
  },
  {
   "cell_type": "code",
   "execution_count": 5,
   "id": "55282f42",
   "metadata": {
    "execution": {
     "iopub.execute_input": "2024-12-23T06:38:53.587692Z",
     "iopub.status.busy": "2024-12-23T06:38:53.587466Z",
     "iopub.status.idle": "2024-12-23T06:38:53.601193Z",
     "shell.execute_reply": "2024-12-23T06:38:53.600412Z"
    },
    "papermill": {
     "duration": 0.018359,
     "end_time": "2024-12-23T06:38:53.602447",
     "exception": false,
     "start_time": "2024-12-23T06:38:53.584088",
     "status": "completed"
    },
    "tags": []
   },
   "outputs": [
    {
     "name": "stdout",
     "output_type": "stream",
     "text": [
      "Training set: 42500 reviews\n",
      "Testing set: 7500 reviews\n",
      "Training set: 42500 sentiments\n",
      "Testing set: 7500 sentiments\n"
     ]
    }
   ],
   "source": [
    "#Splitting the data\n",
    "X = imdb_data['review']\n",
    "y = imdb_data['sentiment']\n",
    "X_train, X_test, y_train, y_test = train_test_split(X, y, test_size=0.15, random_state=42)\n",
    "\n",
    "print(f\"Training set: {len(X_train)} reviews\")\n",
    "print(f\"Testing set: {len(X_test)} reviews\")\n",
    "print(f\"Training set: {len(y_train)} sentiments\")\n",
    "print(f\"Testing set: {len(y_test)} sentiments\")"
   ]
  },
  {
   "cell_type": "code",
   "execution_count": 6,
   "id": "1f1dee09",
   "metadata": {
    "execution": {
     "iopub.execute_input": "2024-12-23T06:38:53.609005Z",
     "iopub.status.busy": "2024-12-23T06:38:53.608781Z",
     "iopub.status.idle": "2024-12-23T06:39:04.250430Z",
     "shell.execute_reply": "2024-12-23T06:39:04.249480Z"
    },
    "papermill": {
     "duration": 10.646346,
     "end_time": "2024-12-23T06:39:04.251826",
     "exception": false,
     "start_time": "2024-12-23T06:38:53.605480",
     "status": "completed"
    },
    "tags": []
   },
   "outputs": [
    {
     "name": "stdout",
     "output_type": "stream",
     "text": [
      "Padded training data shape: (42500, 100)\n",
      "Padded testing data shape: (7500, 100)\n"
     ]
    }
   ],
   "source": [
    "#Text Vectorization\n",
    "# Initialize the tokenizer\n",
    "tokenizer = Tokenizer(num_words=10000)  # Use the top 10,000 words\n",
    "tokenizer.fit_on_texts(X_train)\n",
    "\n",
    "# Convert text to sequences\n",
    "X_train_seq = tokenizer.texts_to_sequences(X_train)\n",
    "X_test_seq = tokenizer.texts_to_sequences(X_test)\n",
    "\n",
    "# Pad sequences to the same length\n",
    "maxlen = 100  # Maximum review length\n",
    "X_train_pad = pad_sequences(X_train_seq, maxlen=maxlen)\n",
    "X_test_pad = pad_sequences(X_test_seq, maxlen=maxlen)\n",
    "\n",
    "print(f\"Padded training data shape: {X_train_pad.shape}\")\n",
    "print(f\"Padded testing data shape: {X_test_pad.shape}\")"
   ]
  },
  {
   "cell_type": "markdown",
   "id": "190a0228",
   "metadata": {
    "papermill": {
     "duration": 0.002609,
     "end_time": "2024-12-23T06:39:04.257460",
     "exception": false,
     "start_time": "2024-12-23T06:39:04.254851",
     "status": "completed"
    },
    "tags": []
   },
   "source": [
    "<font size = 5 color = 'red'>Building and training an RNN model using an LSTM layer for sentiment analysis</font>"
   ]
  },
  {
   "cell_type": "code",
   "execution_count": 7,
   "id": "7a96d253",
   "metadata": {
    "execution": {
     "iopub.execute_input": "2024-12-23T06:39:04.263858Z",
     "iopub.status.busy": "2024-12-23T06:39:04.263601Z",
     "iopub.status.idle": "2024-12-23T06:39:05.029549Z",
     "shell.execute_reply": "2024-12-23T06:39:05.028699Z"
    },
    "papermill": {
     "duration": 0.77053,
     "end_time": "2024-12-23T06:39:05.030803",
     "exception": false,
     "start_time": "2024-12-23T06:39:04.260273",
     "status": "completed"
    },
    "tags": []
   },
   "outputs": [
    {
     "name": "stderr",
     "output_type": "stream",
     "text": [
      "/usr/local/lib/python3.10/dist-packages/keras/src/layers/core/embedding.py:90: UserWarning: Argument `input_length` is deprecated. Just remove it.\n",
      "  warnings.warn(\n"
     ]
    },
    {
     "data": {
      "text/html": [
       "<pre style=\"white-space:pre;overflow-x:auto;line-height:normal;font-family:Menlo,'DejaVu Sans Mono',consolas,'Courier New',monospace\"><span style=\"font-weight: bold\">Model: \"sequential\"</span>\n",
       "</pre>\n"
      ],
      "text/plain": [
       "\u001b[1mModel: \"sequential\"\u001b[0m\n"
      ]
     },
     "metadata": {},
     "output_type": "display_data"
    },
    {
     "data": {
      "text/html": [
       "<pre style=\"white-space:pre;overflow-x:auto;line-height:normal;font-family:Menlo,'DejaVu Sans Mono',consolas,'Courier New',monospace\">┏━━━━━━━━━━━━━━━━━━━━━━━━━━━━━━━━━━━━━━┳━━━━━━━━━━━━━━━━━━━━━━━━━━━━━┳━━━━━━━━━━━━━━━━━┓\n",
       "┃<span style=\"font-weight: bold\"> Layer (type)                         </span>┃<span style=\"font-weight: bold\"> Output Shape                </span>┃<span style=\"font-weight: bold\">         Param # </span>┃\n",
       "┡━━━━━━━━━━━━━━━━━━━━━━━━━━━━━━━━━━━━━━╇━━━━━━━━━━━━━━━━━━━━━━━━━━━━━╇━━━━━━━━━━━━━━━━━┩\n",
       "│ embedding (<span style=\"color: #0087ff; text-decoration-color: #0087ff\">Embedding</span>)                │ ?                           │     <span style=\"color: #00af00; text-decoration-color: #00af00\">0</span> (unbuilt) │\n",
       "├──────────────────────────────────────┼─────────────────────────────┼─────────────────┤\n",
       "│ dropout (<span style=\"color: #0087ff; text-decoration-color: #0087ff\">Dropout</span>)                    │ ?                           │     <span style=\"color: #00af00; text-decoration-color: #00af00\">0</span> (unbuilt) │\n",
       "├──────────────────────────────────────┼─────────────────────────────┼─────────────────┤\n",
       "│ bidirectional (<span style=\"color: #0087ff; text-decoration-color: #0087ff\">Bidirectional</span>)        │ ?                           │     <span style=\"color: #00af00; text-decoration-color: #00af00\">0</span> (unbuilt) │\n",
       "├──────────────────────────────────────┼─────────────────────────────┼─────────────────┤\n",
       "│ dense (<span style=\"color: #0087ff; text-decoration-color: #0087ff\">Dense</span>)                        │ ?                           │     <span style=\"color: #00af00; text-decoration-color: #00af00\">0</span> (unbuilt) │\n",
       "├──────────────────────────────────────┼─────────────────────────────┼─────────────────┤\n",
       "│ dropout_1 (<span style=\"color: #0087ff; text-decoration-color: #0087ff\">Dropout</span>)                  │ ?                           │     <span style=\"color: #00af00; text-decoration-color: #00af00\">0</span> (unbuilt) │\n",
       "├──────────────────────────────────────┼─────────────────────────────┼─────────────────┤\n",
       "│ dense_1 (<span style=\"color: #0087ff; text-decoration-color: #0087ff\">Dense</span>)                      │ ?                           │     <span style=\"color: #00af00; text-decoration-color: #00af00\">0</span> (unbuilt) │\n",
       "└──────────────────────────────────────┴─────────────────────────────┴─────────────────┘\n",
       "</pre>\n"
      ],
      "text/plain": [
       "┏━━━━━━━━━━━━━━━━━━━━━━━━━━━━━━━━━━━━━━┳━━━━━━━━━━━━━━━━━━━━━━━━━━━━━┳━━━━━━━━━━━━━━━━━┓\n",
       "┃\u001b[1m \u001b[0m\u001b[1mLayer (type)                        \u001b[0m\u001b[1m \u001b[0m┃\u001b[1m \u001b[0m\u001b[1mOutput Shape               \u001b[0m\u001b[1m \u001b[0m┃\u001b[1m \u001b[0m\u001b[1m        Param #\u001b[0m\u001b[1m \u001b[0m┃\n",
       "┡━━━━━━━━━━━━━━━━━━━━━━━━━━━━━━━━━━━━━━╇━━━━━━━━━━━━━━━━━━━━━━━━━━━━━╇━━━━━━━━━━━━━━━━━┩\n",
       "│ embedding (\u001b[38;5;33mEmbedding\u001b[0m)                │ ?                           │     \u001b[38;5;34m0\u001b[0m (unbuilt) │\n",
       "├──────────────────────────────────────┼─────────────────────────────┼─────────────────┤\n",
       "│ dropout (\u001b[38;5;33mDropout\u001b[0m)                    │ ?                           │     \u001b[38;5;34m0\u001b[0m (unbuilt) │\n",
       "├──────────────────────────────────────┼─────────────────────────────┼─────────────────┤\n",
       "│ bidirectional (\u001b[38;5;33mBidirectional\u001b[0m)        │ ?                           │     \u001b[38;5;34m0\u001b[0m (unbuilt) │\n",
       "├──────────────────────────────────────┼─────────────────────────────┼─────────────────┤\n",
       "│ dense (\u001b[38;5;33mDense\u001b[0m)                        │ ?                           │     \u001b[38;5;34m0\u001b[0m (unbuilt) │\n",
       "├──────────────────────────────────────┼─────────────────────────────┼─────────────────┤\n",
       "│ dropout_1 (\u001b[38;5;33mDropout\u001b[0m)                  │ ?                           │     \u001b[38;5;34m0\u001b[0m (unbuilt) │\n",
       "├──────────────────────────────────────┼─────────────────────────────┼─────────────────┤\n",
       "│ dense_1 (\u001b[38;5;33mDense\u001b[0m)                      │ ?                           │     \u001b[38;5;34m0\u001b[0m (unbuilt) │\n",
       "└──────────────────────────────────────┴─────────────────────────────┴─────────────────┘\n"
      ]
     },
     "metadata": {},
     "output_type": "display_data"
    },
    {
     "data": {
      "text/html": [
       "<pre style=\"white-space:pre;overflow-x:auto;line-height:normal;font-family:Menlo,'DejaVu Sans Mono',consolas,'Courier New',monospace\"><span style=\"font-weight: bold\"> Total params: </span><span style=\"color: #00af00; text-decoration-color: #00af00\">0</span> (0.00 B)\n",
       "</pre>\n"
      ],
      "text/plain": [
       "\u001b[1m Total params: \u001b[0m\u001b[38;5;34m0\u001b[0m (0.00 B)\n"
      ]
     },
     "metadata": {},
     "output_type": "display_data"
    },
    {
     "data": {
      "text/html": [
       "<pre style=\"white-space:pre;overflow-x:auto;line-height:normal;font-family:Menlo,'DejaVu Sans Mono',consolas,'Courier New',monospace\"><span style=\"font-weight: bold\"> Trainable params: </span><span style=\"color: #00af00; text-decoration-color: #00af00\">0</span> (0.00 B)\n",
       "</pre>\n"
      ],
      "text/plain": [
       "\u001b[1m Trainable params: \u001b[0m\u001b[38;5;34m0\u001b[0m (0.00 B)\n"
      ]
     },
     "metadata": {},
     "output_type": "display_data"
    },
    {
     "data": {
      "text/html": [
       "<pre style=\"white-space:pre;overflow-x:auto;line-height:normal;font-family:Menlo,'DejaVu Sans Mono',consolas,'Courier New',monospace\"><span style=\"font-weight: bold\"> Non-trainable params: </span><span style=\"color: #00af00; text-decoration-color: #00af00\">0</span> (0.00 B)\n",
       "</pre>\n"
      ],
      "text/plain": [
       "\u001b[1m Non-trainable params: \u001b[0m\u001b[38;5;34m0\u001b[0m (0.00 B)\n"
      ]
     },
     "metadata": {},
     "output_type": "display_data"
    }
   ],
   "source": [
    "model = Sequential([\n",
    "    Embedding(input_dim=10000, output_dim=200, input_length=100),\n",
    "    Dropout(0.4),\n",
    "    Bidirectional(LSTM(128, dropout=0.4, recurrent_dropout=0.4, kernel_regularizer=regularizers.l2(0.01))),\n",
    "    Dense(128, activation='relu', kernel_regularizer=regularizers.l2(0.01)),\n",
    "    Dropout(0.4),\n",
    "    Dense(1, activation='sigmoid')\n",
    "])\n",
    "\n",
    "model.compile(optimizer=Adam(learning_rate=0.0003), loss='binary_crossentropy', metrics=['accuracy'])\n",
    "\n",
    "early_stopping = EarlyStopping(monitor='val_accuracy', patience=3, restore_best_weights=True)\n",
    "reduce_lr = ReduceLROnPlateau(monitor='val_loss', factor=0.2, patience=2, min_lr=0.00001)\n",
    "\n",
    "model.summary()"
   ]
  },
  {
   "cell_type": "code",
   "execution_count": 8,
   "id": "75051c67",
   "metadata": {
    "execution": {
     "iopub.execute_input": "2024-12-23T06:39:05.038674Z",
     "iopub.status.busy": "2024-12-23T06:39:05.038443Z",
     "iopub.status.idle": "2024-12-23T07:13:05.705878Z",
     "shell.execute_reply": "2024-12-23T07:13:05.704945Z"
    },
    "papermill": {
     "duration": 2041.102965,
     "end_time": "2024-12-23T07:13:06.137395",
     "exception": false,
     "start_time": "2024-12-23T06:39:05.034430",
     "status": "completed"
    },
    "tags": []
   },
   "outputs": [
    {
     "name": "stdout",
     "output_type": "stream",
     "text": [
      "Epoch 1/20\n",
      "\u001b[1m532/532\u001b[0m \u001b[32m━━━━━━━━━━━━━━━━━━━━\u001b[0m\u001b[37m\u001b[0m \u001b[1m135s\u001b[0m 240ms/step - accuracy: 0.5781 - loss: 3.8701 - val_accuracy: 0.7675 - val_loss: 0.6289 - learning_rate: 3.0000e-04\n",
      "Epoch 2/20\n",
      "\u001b[1m532/532\u001b[0m \u001b[32m━━━━━━━━━━━━━━━━━━━━\u001b[0m\u001b[37m\u001b[0m \u001b[1m126s\u001b[0m 237ms/step - accuracy: 0.7286 - loss: 0.6493 - val_accuracy: 0.6728 - val_loss: 0.6224 - learning_rate: 3.0000e-04\n",
      "Epoch 3/20\n",
      "\u001b[1m532/532\u001b[0m \u001b[32m━━━━━━━━━━━━━━━━━━━━\u001b[0m\u001b[37m\u001b[0m \u001b[1m127s\u001b[0m 239ms/step - accuracy: 0.7668 - loss: 0.5833 - val_accuracy: 0.7246 - val_loss: 0.6277 - learning_rate: 3.0000e-04\n",
      "Epoch 4/20\n",
      "\u001b[1m532/532\u001b[0m \u001b[32m━━━━━━━━━━━━━━━━━━━━\u001b[0m\u001b[37m\u001b[0m \u001b[1m126s\u001b[0m 237ms/step - accuracy: 0.7510 - loss: 0.5927 - val_accuracy: 0.7946 - val_loss: 0.5273 - learning_rate: 3.0000e-04\n",
      "Epoch 5/20\n",
      "\u001b[1m532/532\u001b[0m \u001b[32m━━━━━━━━━━━━━━━━━━━━\u001b[0m\u001b[37m\u001b[0m \u001b[1m126s\u001b[0m 236ms/step - accuracy: 0.7960 - loss: 0.5471 - val_accuracy: 0.8198 - val_loss: 0.4966 - learning_rate: 3.0000e-04\n",
      "Epoch 6/20\n",
      "\u001b[1m532/532\u001b[0m \u001b[32m━━━━━━━━━━━━━━━━━━━━\u001b[0m\u001b[37m\u001b[0m \u001b[1m127s\u001b[0m 238ms/step - accuracy: 0.8223 - loss: 0.4923 - val_accuracy: 0.8234 - val_loss: 0.4762 - learning_rate: 3.0000e-04\n",
      "Epoch 7/20\n",
      "\u001b[1m532/532\u001b[0m \u001b[32m━━━━━━━━━━━━━━━━━━━━\u001b[0m\u001b[37m\u001b[0m \u001b[1m126s\u001b[0m 237ms/step - accuracy: 0.8377 - loss: 0.4625 - val_accuracy: 0.8254 - val_loss: 0.4729 - learning_rate: 3.0000e-04\n",
      "Epoch 8/20\n",
      "\u001b[1m532/532\u001b[0m \u001b[32m━━━━━━━━━━━━━━━━━━━━\u001b[0m\u001b[37m\u001b[0m \u001b[1m126s\u001b[0m 236ms/step - accuracy: 0.8475 - loss: 0.4527 - val_accuracy: 0.8367 - val_loss: 0.4500 - learning_rate: 3.0000e-04\n",
      "Epoch 9/20\n",
      "\u001b[1m532/532\u001b[0m \u001b[32m━━━━━━━━━━━━━━━━━━━━\u001b[0m\u001b[37m\u001b[0m \u001b[1m125s\u001b[0m 236ms/step - accuracy: 0.8597 - loss: 0.4214 - val_accuracy: 0.8366 - val_loss: 0.4308 - learning_rate: 3.0000e-04\n",
      "Epoch 10/20\n",
      "\u001b[1m532/532\u001b[0m \u001b[32m━━━━━━━━━━━━━━━━━━━━\u001b[0m\u001b[37m\u001b[0m \u001b[1m125s\u001b[0m 236ms/step - accuracy: 0.8704 - loss: 0.3946 - val_accuracy: 0.8374 - val_loss: 0.4240 - learning_rate: 3.0000e-04\n",
      "Epoch 11/20\n",
      "\u001b[1m532/532\u001b[0m \u001b[32m━━━━━━━━━━━━━━━━━━━━\u001b[0m\u001b[37m\u001b[0m \u001b[1m126s\u001b[0m 237ms/step - accuracy: 0.8752 - loss: 0.3733 - val_accuracy: 0.8427 - val_loss: 0.4154 - learning_rate: 3.0000e-04\n",
      "Epoch 12/20\n",
      "\u001b[1m532/532\u001b[0m \u001b[32m━━━━━━━━━━━━━━━━━━━━\u001b[0m\u001b[37m\u001b[0m \u001b[1m141s\u001b[0m 235ms/step - accuracy: 0.8797 - loss: 0.3553 - val_accuracy: 0.8408 - val_loss: 0.4105 - learning_rate: 3.0000e-04\n",
      "Epoch 13/20\n",
      "\u001b[1m532/532\u001b[0m \u001b[32m━━━━━━━━━━━━━━━━━━━━\u001b[0m\u001b[37m\u001b[0m \u001b[1m126s\u001b[0m 237ms/step - accuracy: 0.8871 - loss: 0.3363 - val_accuracy: 0.8494 - val_loss: 0.3957 - learning_rate: 3.0000e-04\n",
      "Epoch 14/20\n",
      "\u001b[1m532/532\u001b[0m \u001b[32m━━━━━━━━━━━━━━━━━━━━\u001b[0m\u001b[37m\u001b[0m \u001b[1m126s\u001b[0m 236ms/step - accuracy: 0.8944 - loss: 0.3208 - val_accuracy: 0.8395 - val_loss: 0.4061 - learning_rate: 3.0000e-04\n",
      "Epoch 15/20\n",
      "\u001b[1m532/532\u001b[0m \u001b[32m━━━━━━━━━━━━━━━━━━━━\u001b[0m\u001b[37m\u001b[0m \u001b[1m126s\u001b[0m 236ms/step - accuracy: 0.8938 - loss: 0.3169 - val_accuracy: 0.8366 - val_loss: 0.4095 - learning_rate: 3.0000e-04\n",
      "Epoch 16/20\n",
      "\u001b[1m532/532\u001b[0m \u001b[32m━━━━━━━━━━━━━━━━━━━━\u001b[0m\u001b[37m\u001b[0m \u001b[1m126s\u001b[0m 238ms/step - accuracy: 0.9012 - loss: 0.3007 - val_accuracy: 0.8449 - val_loss: 0.4040 - learning_rate: 6.0000e-05\n"
     ]
    }
   ],
   "source": [
    "# Training the model\n",
    "history = model.fit(\n",
    "    X_train_pad, y_train,\n",
    "    epochs=20,\n",
    "    batch_size=64,\n",
    "    validation_split=0.2,\n",
    "    callbacks=[early_stopping, reduce_lr]\n",
    ")"
   ]
  },
  {
   "cell_type": "code",
   "execution_count": 9,
   "id": "d9929dc9",
   "metadata": {
    "execution": {
     "iopub.execute_input": "2024-12-23T07:13:06.925813Z",
     "iopub.status.busy": "2024-12-23T07:13:06.925474Z",
     "iopub.status.idle": "2024-12-23T07:13:17.321707Z",
     "shell.execute_reply": "2024-12-23T07:13:17.320787Z"
    },
    "papermill": {
     "duration": 10.784852,
     "end_time": "2024-12-23T07:13:17.323080",
     "exception": false,
     "start_time": "2024-12-23T07:13:06.538228",
     "status": "completed"
    },
    "tags": []
   },
   "outputs": [
    {
     "name": "stdout",
     "output_type": "stream",
     "text": [
      "\u001b[1m235/235\u001b[0m \u001b[32m━━━━━━━━━━━━━━━━━━━━\u001b[0m\u001b[37m\u001b[0m \u001b[1m10s\u001b[0m 44ms/step - accuracy: 0.8537 - loss: 0.3810\n",
      "Test Accuracy: 85.72%\n"
     ]
    }
   ],
   "source": [
    "loss, accuracy = model.evaluate(X_test_pad, y_test)\n",
    "print(f\"Test Accuracy: {accuracy * 100:.2f}%\")"
   ]
  },
  {
   "cell_type": "code",
   "execution_count": 10,
   "id": "ead62363",
   "metadata": {
    "execution": {
     "iopub.execute_input": "2024-12-23T07:13:18.207589Z",
     "iopub.status.busy": "2024-12-23T07:13:18.207263Z",
     "iopub.status.idle": "2024-12-23T07:13:18.602138Z",
     "shell.execute_reply": "2024-12-23T07:13:18.601327Z"
    },
    "papermill": {
     "duration": 0.814246,
     "end_time": "2024-12-23T07:13:18.603684",
     "exception": false,
     "start_time": "2024-12-23T07:13:17.789438",
     "status": "completed"
    },
    "tags": []
   },
   "outputs": [
    {
     "data": {
      "image/png": "[encoded data removed]",
      "text/plain": [
       "<Figure size 640x480 with 1 Axes>"
      ]
     },
     "metadata": {},
     "output_type": "display_data"
    },
    {
     "data": {
      "image/png": "[encoded data removed]",
      "text/plain": [
       "<Figure size 640x480 with 1 Axes>"
      ]
     },
     "metadata": {},
     "output_type": "display_data"
    }
   ],
   "source": [
    "import matplotlib.pyplot as plt\n",
    "\n",
    "# Plot accuracy\n",
    "plt.plot(history.history['accuracy'], label='Training Accuracy')\n",
    "plt.plot(history.history['val_accuracy'], label='Validation Accuracy')\n",
    "plt.legend()\n",
    "plt.title('Accuracy over Epochs')\n",
    "plt.xlabel('Epochs')\n",
    "plt.ylabel('Accuracy')\n",
    "plt.show()\n",
    "\n",
    "# Plot loss\n",
    "plt.plot(history.history['loss'], label='Training Loss')\n",
    "plt.plot(history.history['val_loss'], label='Validation Loss')\n",
    "plt.legend()\n",
    "plt.title('Loss over Epochs')\n",
    "plt.xlabel('Epochs')\n",
    "plt.ylabel('Loss')\n",
    "plt.show()\n"
   ]
  }
 ],
 "metadata": {
  "kaggle": {
   "accelerator": "nvidiaTeslaT4",
   "dataSources": [
    {
     "datasetId": 134715,
     "sourceId": 320111,
     "sourceType": "datasetVersion"
    }
   ],
   "dockerImageVersionId": 30822,
   "isGpuEnabled": true,
   "isInternetEnabled": true,
   "language": "python",
   "sourceType": "notebook"
  },
  "kernelspec": {
   "display_name": "Python 3",
   "language": "python",
   "name": "python3"
  },
  "language_info": {
   "codemirror_mode": {
    "name": "ipython",
    "version": 3
   },
   "file_extension": ".py",
   "mimetype": "text/x-python",
   "name": "python",
   "nbconvert_exporter": "python",
   "pygments_lexer": "ipython3",
   "version": "3.10.12"
  },
  "papermill": {
   "default_parameters": {},
   "duration": 2081.9863,
   "end_time": "2024-12-23T07:13:22.429841",
   "environment_variables": {},
   "exception": null,
   "input_path": "__notebook__.ipynb",
   "output_path": "__notebook__.ipynb",
   "parameters": {},
   "start_time": "2024-12-23T06:38:40.443541",
   "version": "2.6.0"
  }
 },
 "nbformat": 4,
 "nbformat_minor": 5
}

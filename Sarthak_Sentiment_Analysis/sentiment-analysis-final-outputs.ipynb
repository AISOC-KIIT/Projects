{
 "cells": [
  {
   "cell_type": "code",
   "execution_count": 17,
   "metadata": {
    "_cell_guid": "b1076dfc-b9ad-4769-8c92-a6c4dae69d19",
    "_uuid": "8f2839f25d086af736a60e9eeb907d3b93b6e0e5",
    "execution": {
     "iopub.execute_input": "2024-12-26T09:56:14.415067Z",
     "iopub.status.busy": "2024-12-26T09:56:14.414800Z",
     "iopub.status.idle": "2024-12-26T09:56:17.686043Z",
     "shell.execute_reply": "2024-12-26T09:56:17.685087Z",
     "shell.execute_reply.started": "2024-12-26T09:56:14.415046Z"
    },
    "trusted": true
   },
   "outputs": [
    {
     "name": "stderr",
     "output_type": "stream",
     "text": [
      "/usr/lib/python3.10/pty.py:89: RuntimeWarning: os.fork() was called. os.fork() is incompatible with multithreaded code, and JAX is multithreaded, so this will likely lead to a deadlock.\n",
      "  pid, fd = os.forkpty()\n"
     ]
    },
    {
     "name": "stdout",
     "output_type": "stream",
     "text": [
      "Requirement already satisfied: contractions in /usr/local/lib/python3.10/dist-packages (0.1.73)\n",
      "Requirement already satisfied: textsearch>=0.0.21 in /usr/local/lib/python3.10/dist-packages (from contractions) (0.0.24)\n",
      "Requirement already satisfied: anyascii in /usr/local/lib/python3.10/dist-packages (from textsearch>=0.0.21->contractions) (0.3.2)\n",
      "Requirement already satisfied: pyahocorasick in /usr/local/lib/python3.10/dist-packages (from textsearch>=0.0.21->contractions) (2.1.0)\n"
     ]
    }
   ],
   "source": [
    "#!pip install pandas numpy \n",
    "!pip install contractions"
   ]
  },
  {
   "cell_type": "code",
   "execution_count": 18,
   "metadata": {
    "execution": {
     "iopub.execute_input": "2024-12-26T09:56:17.688211Z",
     "iopub.status.busy": "2024-12-26T09:56:17.687866Z",
     "iopub.status.idle": "2024-12-26T09:56:17.721667Z",
     "shell.execute_reply": "2024-12-26T09:56:17.720882Z",
     "shell.execute_reply.started": "2024-12-26T09:56:17.688176Z"
    },
    "trusted": true
   },
   "outputs": [],
   "source": [
    "import pandas as pd\n",
    "import re\n",
    "from nltk.corpus import stopwords\n",
    "import contractions\n",
    "import numpy as np\n",
    "import random\n",
    "import tensorflow as tf\n",
    "import matplotlib.pyplot as plt\n",
    "from sklearn.model_selection import train_test_split\n",
    "from tensorflow.keras.preprocessing.text import Tokenizer\n",
    "from tensorflow.keras.preprocessing.sequence import pad_sequences\n",
    "from tensorflow.keras.models import Sequential\n",
    "from tensorflow.keras.layers import Embedding, LSTM, Bidirectional, Dense, Dropout\n",
    "from tensorflow.keras.optimizers import Adam\n",
    "from tensorflow.keras.callbacks import EarlyStopping, ReduceLROnPlateau\n",
    "from tensorflow.keras import regularizers\n",
    "np.random.seed(42)\n",
    "random.seed(42)\n",
    "tf.random.set_seed(42)"
   ]
  },
  {
   "cell_type": "code",
   "execution_count": 19,
   "metadata": {
    "execution": {
     "iopub.execute_input": "2024-12-26T09:56:17.730569Z",
     "iopub.status.busy": "2024-12-26T09:56:17.730313Z",
     "iopub.status.idle": "2024-12-26T09:56:18.370904Z",
     "shell.execute_reply": "2024-12-26T09:56:18.370070Z",
     "shell.execute_reply.started": "2024-12-26T09:56:17.730540Z"
    },
    "trusted": true
   },
   "outputs": [
    {
     "name": "stdout",
     "output_type": "stream",
     "text": [
      "                                              review sentiment\n",
      "0  One of the other reviewers has mentioned that ...  positive\n",
      "1  A wonderful little production. <br /><br />The...  positive\n",
      "2  I thought this was a wonderful way to spend ti...  positive\n",
      "3  Basically there's a family where a little boy ...  negative\n",
      "4  Petter Mattei's \"Love in the Time of Money\" is...  positive\n",
      "5  Probably my all-time favorite movie, a story o...  positive\n",
      "6  I sure would like to see a resurrection of a u...  positive\n",
      "7  This show was an amazing, fresh & innovative i...  negative\n",
      "8  Encouraged by the positive comments about this...  negative\n",
      "9  If you like original gut wrenching laughter yo...  positive\n"
     ]
    }
   ],
   "source": [
    "#Showing loaded data\n",
    "file_path = '/kaggle/input/imdb-dataset-of-50k-movie-reviews/IMDB Dataset.csv'\n",
    "imdb_data = pd.read_csv(file_path)\n",
    "print(imdb_data.head(10))"
   ]
  },
  {
   "cell_type": "code",
   "execution_count": 20,
   "metadata": {
    "execution": {
     "iopub.execute_input": "2024-12-26T09:56:18.371980Z",
     "iopub.status.busy": "2024-12-26T09:56:18.371699Z",
     "iopub.status.idle": "2024-12-26T09:56:25.590631Z",
     "shell.execute_reply": "2024-12-26T09:56:25.589709Z",
     "shell.execute_reply.started": "2024-12-26T09:56:18.371946Z"
    },
    "trusted": true
   },
   "outputs": [
    {
     "data": {
      "text/html": [
       "<div>\n",
       "<style scoped>\n",
       "    .dataframe tbody tr th:only-of-type {\n",
       "        vertical-align: middle;\n",
       "    }\n",
       "\n",
       "    .dataframe tbody tr th {\n",
       "        vertical-align: top;\n",
       "    }\n",
       "\n",
       "    .dataframe thead th {\n",
       "        text-align: right;\n",
       "    }\n",
       "</style>\n",
       "<table border=\"1\" class=\"dataframe\">\n",
       "  <thead>\n",
       "    <tr style=\"text-align: right;\">\n",
       "      <th></th>\n",
       "      <th>review</th>\n",
       "      <th>sentiment</th>\n",
       "    </tr>\n",
       "  </thead>\n",
       "  <tbody>\n",
       "    <tr>\n",
       "      <th>0</th>\n",
       "      <td>one reviewers mentioned watching oz episode ho...</td>\n",
       "      <td>1</td>\n",
       "    </tr>\n",
       "    <tr>\n",
       "      <th>1</th>\n",
       "      <td>wonderful little production filming technique ...</td>\n",
       "      <td>1</td>\n",
       "    </tr>\n",
       "    <tr>\n",
       "      <th>2</th>\n",
       "      <td>thought wonderful way spend time hot summer we...</td>\n",
       "      <td>1</td>\n",
       "    </tr>\n",
       "    <tr>\n",
       "      <th>3</th>\n",
       "      <td>basically family little boy jake thinks zombie...</td>\n",
       "      <td>0</td>\n",
       "    </tr>\n",
       "    <tr>\n",
       "      <th>4</th>\n",
       "      <td>petter matteis love time money visually stunni...</td>\n",
       "      <td>1</td>\n",
       "    </tr>\n",
       "    <tr>\n",
       "      <th>5</th>\n",
       "      <td>probably alltime favorite movie story selfless...</td>\n",
       "      <td>1</td>\n",
       "    </tr>\n",
       "    <tr>\n",
       "      <th>6</th>\n",
       "      <td>sure would like see resurrection dated seahunt...</td>\n",
       "      <td>1</td>\n",
       "    </tr>\n",
       "    <tr>\n",
       "      <th>7</th>\n",
       "      <td>show amazing fresh innovative idea first aired...</td>\n",
       "      <td>0</td>\n",
       "    </tr>\n",
       "    <tr>\n",
       "      <th>8</th>\n",
       "      <td>encouraged positive comments film looking forw...</td>\n",
       "      <td>0</td>\n",
       "    </tr>\n",
       "    <tr>\n",
       "      <th>9</th>\n",
       "      <td>like original gut wrenching laughter like movi...</td>\n",
       "      <td>1</td>\n",
       "    </tr>\n",
       "  </tbody>\n",
       "</table>\n",
       "</div>"
      ],
      "text/plain": [
       "                                              review  sentiment\n",
       "0  one reviewers mentioned watching oz episode ho...          1\n",
       "1  wonderful little production filming technique ...          1\n",
       "2  thought wonderful way spend time hot summer we...          1\n",
       "3  basically family little boy jake thinks zombie...          0\n",
       "4  petter matteis love time money visually stunni...          1\n",
       "5  probably alltime favorite movie story selfless...          1\n",
       "6  sure would like see resurrection dated seahunt...          1\n",
       "7  show amazing fresh innovative idea first aired...          0\n",
       "8  encouraged positive comments film looking forw...          0\n",
       "9  like original gut wrenching laughter like movi...          1"
      ]
     },
     "execution_count": 20,
     "metadata": {},
     "output_type": "execute_result"
    }
   ],
   "source": [
    "#Data cleaning\n",
    "# Load stopwords\n",
    "stop_words = set(stopwords.words('english'))\n",
    "imdb_data['sentiment'] = imdb_data['sentiment'].map({'positive': 1, 'negative': 0})\n",
    "imdb_data['sentiment'] = imdb_data['sentiment'].astype(int)\n",
    "\n",
    "def clean_text(text):\n",
    "    text = re.sub('<br />', ' ', text)  # Remove HTML tags\n",
    "    text = re.sub(r'[^a-zA-Z\\s]', '', text)  # Keep only letters\n",
    "    text = text.lower()  # Convert to lowercase\n",
    "    text = contractions.fix(text)  # Expand contractions like \"don't\" to \"do not\"\n",
    "    # Remove stopwords\n",
    "    text = ' '.join([word for word in text.split() if word not in stop_words])\n",
    "    return text\n",
    "\n",
    "imdb_data['review'] = imdb_data['review'].apply(clean_text)\n",
    "imdb_data.head(10)"
   ]
  },
  {
   "cell_type": "code",
   "execution_count": 21,
   "metadata": {
    "execution": {
     "iopub.execute_input": "2024-12-26T09:56:25.591966Z",
     "iopub.status.busy": "2024-12-26T09:56:25.591704Z",
     "iopub.status.idle": "2024-12-26T09:56:25.615944Z",
     "shell.execute_reply": "2024-12-26T09:56:25.615236Z",
     "shell.execute_reply.started": "2024-12-26T09:56:25.591944Z"
    },
    "trusted": true
   },
   "outputs": [
    {
     "name": "stdout",
     "output_type": "stream",
     "text": [
      "Training set: 42500 reviews\n",
      "Testing set: 7500 reviews\n",
      "Training set: 42500 sentiments\n",
      "Testing set: 7500 sentiments\n"
     ]
    }
   ],
   "source": [
    "#Splitting the data\n",
    "X = imdb_data['review']\n",
    "y = imdb_data['sentiment']\n",
    "X_train, X_test, y_train, y_test = train_test_split(X, y, test_size=0.15, random_state=42)\n",
    "\n",
    "print(f\"Training set: {len(X_train)} reviews\")\n",
    "print(f\"Testing set: {len(X_test)} reviews\")\n",
    "print(f\"Training set: {len(y_train)} sentiments\")\n",
    "print(f\"Testing set: {len(y_test)} sentiments\")\n",
    "\n",
    "#For finding maxlen\n",
    "#review_lengths = [len(seq) for seq in X_train_seq]\n",
    "#plt.hist(review_lengths, bins=100)\n",
    "#plt.show()"
   ]
  },
  {
   "cell_type": "code",
   "execution_count": 22,
   "metadata": {
    "execution": {
     "iopub.execute_input": "2024-12-26T09:56:25.616885Z",
     "iopub.status.busy": "2024-12-26T09:56:25.616651Z",
     "iopub.status.idle": "2024-12-26T09:56:31.884304Z",
     "shell.execute_reply": "2024-12-26T09:56:31.883416Z",
     "shell.execute_reply.started": "2024-12-26T09:56:25.616862Z"
    },
    "trusted": true
   },
   "outputs": [
    {
     "name": "stdout",
     "output_type": "stream",
     "text": [
      "Padded training data shape: (42500, 150)\n",
      "Padded testing data shape: (7500, 150)\n"
     ]
    }
   ],
   "source": [
    "#Text Vectorization\n",
    "tokenizer = Tokenizer(num_words=30000)  # Use the top 30,000 words\n",
    "tokenizer.fit_on_texts(X_train)\n",
    "\n",
    "X_train_seq = tokenizer.texts_to_sequences(X_train)\n",
    "X_test_seq = tokenizer.texts_to_sequences(X_test)\n",
    "\n",
    "maxlen = 150  # Maximum review length , Check from the graph\n",
    "X_train_pad = pad_sequences(X_train_seq, maxlen=maxlen)\n",
    "X_test_pad = pad_sequences(X_test_seq, maxlen=maxlen)\n",
    "\n",
    "print(f\"Padded training data shape: {X_train_pad.shape}\")\n",
    "print(f\"Padded testing data shape: {X_test_pad.shape}\")"
   ]
  },
  {
   "cell_type": "markdown",
   "metadata": {},
   "source": [
    "<font size = 5 color = 'red'>Building and training an RNN model using a Bidirectional LSTM layer for sentiment analysis</font>"
   ]
  },
  {
   "cell_type": "code",
   "execution_count": 23,
   "metadata": {
    "execution": {
     "iopub.execute_input": "2024-12-26T09:56:31.885469Z",
     "iopub.status.busy": "2024-12-26T09:56:31.885143Z",
     "iopub.status.idle": "2024-12-26T09:57:04.746293Z",
     "shell.execute_reply": "2024-12-26T09:57:04.745471Z",
     "shell.execute_reply.started": "2024-12-26T09:56:31.885436Z"
    },
    "trusted": true
   },
   "outputs": [
    {
     "name": "stderr",
     "output_type": "stream",
     "text": [
      "/usr/local/lib/python3.10/dist-packages/keras/src/layers/core/embedding.py:90: UserWarning: Argument `input_length` is deprecated. Just remove it.\n",
      "  warnings.warn(\n",
      "/usr/local/lib/python3.10/dist-packages/keras/src/saving/saving_lib.py:576: UserWarning: Skipping variable loading for optimizer 'adam', because it has 2 variables whereas the saved optimizer has 24 variables. \n",
      "  saveable.load_own_variables(weights_store.get(inner_path))\n"
     ]
    },
    {
     "name": "stdout",
     "output_type": "stream",
     "text": [
      "Model weights loaded successfully.\n",
      "\u001b[1m235/235\u001b[0m \u001b[32m━━━━━━━━━━━━━━━━━━━━\u001b[0m\u001b[37m\u001b[0m \u001b[1m16s\u001b[0m 67ms/step - accuracy: 0.8771 - loss: 0.3444\n",
      "Test Accuracy: 87.83%\n",
      "\u001b[1m235/235\u001b[0m \u001b[32m━━━━━━━━━━━━━━━━━━━━\u001b[0m\u001b[37m\u001b[0m \u001b[1m16s\u001b[0m 66ms/step\n",
      "Sample Predictions: [0 1 0 1 0 1 1 0 0 0]\n"
     ]
    }
   ],
   "source": [
    "from tensorflow.keras.models import Sequential\n",
    "from tensorflow.keras.layers import Embedding, LSTM, Bidirectional, Dense, Dropout\n",
    "from tensorflow.keras.optimizers import Adam\n",
    "from tensorflow.keras import regularizers\n",
    "import numpy as np\n",
    "\n",
    "model = Sequential([\n",
    "    Embedding(input_dim=10000, output_dim=200, input_length=100),  # Matches training configuration\n",
    "    Dropout(0.15),\n",
    "    Bidirectional(LSTM(128, dropout=0.15, recurrent_dropout=0.15, kernel_regularizer=regularizers.l2(0.01))),\n",
    "    Dense(128, activation='relu', kernel_regularizer=regularizers.l2(0.01)),\n",
    "    Dropout(0.15),\n",
    "    Dense(1, activation='sigmoid')\n",
    "])\n",
    "\n",
    "model.compile(optimizer=Adam(learning_rate=0.0003), loss='binary_crossentropy', metrics=['accuracy'])\n",
    "model.build(input_shape=(None, 100))  # None for batch size, 100 for input length\n",
    "\n",
    "weights_path = \"/kaggle/input/sentiment/tensorflow2/default/1/model_4.weights.h5\"\n",
    "try:\n",
    "    model.load_weights(weights_path)\n",
    "    print(\"Model weights loaded successfully.\")\n",
    "except Exception as e:\n",
    "    print(\"Error loading weights:\", e)\n",
    "\n",
    "\n",
    "loss, accuracy = model.evaluate(X_test_pad, y_test, verbose=1)\n",
    "print(f\"Test Accuracy: {accuracy * 100:.2f}%\")\n",
    "\n",
    "predictions = model.predict(X_test_pad)\n",
    "predictions = (predictions > 0.5).astype(int).flatten()\n",
    "\n",
    "print(\"Sample Predictions:\", predictions[:10])\n"
   ]
  },
  {
   "cell_type": "code",
   "execution_count": 25,
   "metadata": {
    "execution": {
     "iopub.execute_input": "2024-12-26T10:00:21.018946Z",
     "iopub.status.busy": "2024-12-26T10:00:21.018567Z",
     "iopub.status.idle": "2024-12-26T10:00:21.163980Z",
     "shell.execute_reply": "2024-12-26T10:00:21.163145Z",
     "shell.execute_reply.started": "2024-12-26T10:00:21.018917Z"
    },
    "trusted": true
   },
   "outputs": [
    {
     "name": "stdout",
     "output_type": "stream",
     "text": [
      "\u001b[1m1/1\u001b[0m \u001b[32m━━━━━━━━━━━━━━━━━━━━\u001b[0m\u001b[37m\u001b[0m \u001b[1m0s\u001b[0m 77ms/step\n",
      "Sample Review Predictions:\n",
      "Review: The movie was fantastic! I loved it.\n",
      "Predicted Sentiment: Positive\n",
      "Prediction Score: 0.92\n",
      "--------------------------------------------------\n",
      "Review: It was a waste of time. Terrible story.\n",
      "Predicted Sentiment: Negative\n",
      "Prediction Score: 0.12\n",
      "--------------------------------------------------\n",
      "Review: An average film with decent acting but poor direction.\n",
      "Predicted Sentiment: Negative\n",
      "Prediction Score: 0.32\n",
      "--------------------------------------------------\n",
      "Review: Absolutely brilliant! A must-watch for everyone.\n",
      "Predicted Sentiment: Positive\n",
      "Prediction Score: 0.88\n",
      "--------------------------------------------------\n",
      "Review: The plot was dull and predictable. Not worth it.\n",
      "Predicted Sentiment: Negative\n",
      "Prediction Score: 0.29\n",
      "--------------------------------------------------\n",
      "Review: An exhilarating experience! The visuals were stunning.\n",
      "Predicted Sentiment: Positive\n",
      "Prediction Score: 0.83\n",
      "--------------------------------------------------\n",
      "Review: I fell asleep halfway through. It was boring.\n",
      "Predicted Sentiment: Negative\n",
      "Prediction Score: 0.25\n",
      "--------------------------------------------------\n",
      "Review: One of the best movies I've ever seen.\n",
      "Predicted Sentiment: Positive\n",
      "Prediction Score: 0.84\n",
      "--------------------------------------------------\n",
      "Review: The characters lacked depth, and the story was weak.\n",
      "Predicted Sentiment: Negative\n",
      "Prediction Score: 0.35\n",
      "--------------------------------------------------\n",
      "Review: Loved the chemistry between the leads! So heartwarming.\n",
      "Predicted Sentiment: Positive\n",
      "Prediction Score: 0.88\n",
      "--------------------------------------------------\n",
      "Review: Terrible acting and horrible script. Would not recommend.\n",
      "Predicted Sentiment: Negative\n",
      "Prediction Score: 0.08\n",
      "--------------------------------------------------\n",
      "Review: A decent movie to watch with friends.\n",
      "Predicted Sentiment: Positive\n",
      "Prediction Score: 0.74\n",
      "--------------------------------------------------\n",
      "Review: The ending was unexpected and gave me chills!\n",
      "Predicted Sentiment: Positive\n",
      "Prediction Score: 0.91\n",
      "--------------------------------------------------\n",
      "Review: I regret wasting my money on this disaster.\n",
      "Predicted Sentiment: Positive\n",
      "Prediction Score: 0.52\n",
      "--------------------------------------------------\n",
      "Review: It was funny and entertaining throughout.\n",
      "Predicted Sentiment: Positive\n",
      "Prediction Score: 0.86\n",
      "--------------------------------------------------\n",
      "Review: The special effects were impressive, but the story fell flat.\n",
      "Predicted Sentiment: Positive\n",
      "Prediction Score: 0.55\n",
      "--------------------------------------------------\n",
      "Review: A masterpiece! Truly a cinematic achievement.\n",
      "Predicted Sentiment: Positive\n",
      "Prediction Score: 0.86\n",
      "--------------------------------------------------\n",
      "Review: The dialogues were cheesy, but it was fun overall.\n",
      "Predicted Sentiment: Positive\n",
      "Prediction Score: 0.78\n",
      "--------------------------------------------------\n",
      "Review: An emotional rollercoaster! I couldn't hold back my tears.\n",
      "Predicted Sentiment: Positive\n",
      "Prediction Score: 0.82\n",
      "--------------------------------------------------\n",
      "Review: Too many plot holes. It felt rushed and incomplete.\n",
      "Predicted Sentiment: Positive\n",
      "Prediction Score: 0.54\n",
      "--------------------------------------------------\n",
      "Review: The soundtrack was amazing and fit the scenes perfectly.\n",
      "Predicted Sentiment: Positive\n",
      "Prediction Score: 0.93\n",
      "--------------------------------------------------\n",
      "Review: Mediocre at best. Nothing new or interesting.\n",
      "Predicted Sentiment: Negative\n",
      "Prediction Score: 0.34\n",
      "--------------------------------------------------\n",
      "Review: A brilliant performance by the lead actor!\n",
      "Predicted Sentiment: Positive\n",
      "Prediction Score: 0.82\n",
      "--------------------------------------------------\n",
      "Review: A confusing mess with no clear direction.\n",
      "Predicted Sentiment: Negative\n",
      "Prediction Score: 0.27\n",
      "--------------------------------------------------\n",
      "Review: The comedy was spot on! Had me laughing the entire time.\n",
      "Predicted Sentiment: Positive\n",
      "Prediction Score: 0.75\n",
      "--------------------------------------------------\n",
      "Review: The pacing was off, and it felt too long.\n",
      "Predicted Sentiment: Positive\n",
      "Prediction Score: 0.68\n",
      "--------------------------------------------------\n",
      "Review: One of the most inspiring movies I've watched.\n",
      "Predicted Sentiment: Positive\n",
      "Prediction Score: 0.73\n",
      "--------------------------------------------------\n",
      "Review: Unrealistic and overhyped. Disappointed.\n",
      "Predicted Sentiment: Positive\n",
      "Prediction Score: 0.59\n",
      "--------------------------------------------------\n",
      "Review: A thought-provoking film that stays with you.\n",
      "Predicted Sentiment: Positive\n",
      "Prediction Score: 0.87\n",
      "--------------------------------------------------\n",
      "Review: The cinematography was breathtaking, but the plot was lacking.\n",
      "Predicted Sentiment: Positive\n",
      "Prediction Score: 0.72\n",
      "--------------------------------------------------\n",
      "Review: One of the other reviewers has mentioned that after watching just 1 Oz episode you'll be hooked. They are right, as this is exactly what happened with me. \n",
      "\n",
      "The first thing that struck me about Oz was its brutality and unflinching scenes of violence, which set in right from the word GO. Trust me, this is not a show for the faint hearted or timid. This show pulls no punches with regards to drugs, sex or violence. Its is hardcore, in the classic use of the word.\n",
      "\n",
      "It is called OZ as that is the nickname given to the Oswald Maximum Security State Penitentiary. It focuses mainly on Emerald City, an experimental section of the prison where all the cells have glass fronts and face inwards, so privacy is not high on the agenda. Em City is home to many...Aryans, Muslims, gangstas, Latinos, Christians, Italians, Irish and more...so scuffles, death stares, dodgy dealings and shady agreements are never far away.\n",
      "\n",
      "I would say the main appeal of the show is due to the fact that it goes where other shows wouldn't dare. Forget pretty pictures painted for mainstream audiences, forget charm, forget romance...OZ doesn't mess around. The first episode I ever saw struck me as so nasty it was surreal, I couldn't say I was ready for it, but as I watched more, I developed a taste for Oz, and got accustomed to the high levels of graphic violence. Not just violence, but injustice (crooked guards who'll be sold out for a nickel, inmates who'll kill on order and get away with it, well-mannered, middle-class inmates being turned into prison bitches due to their lack of street skills or prison experience). Watching Oz, you may become comfortable with what is uncomfortable viewing...that's if you can get in touch with your darker side.\n",
      "Predicted Sentiment: Positive\n",
      "Prediction Score: 0.93\n",
      "--------------------------------------------------\n"
     ]
    }
   ],
   "source": [
    "# Sample reviews for testing (31 examples)\n",
    "sample_reviews = [\n",
    "    \"The movie was fantastic! I loved it.\",\n",
    "    \"It was a waste of time. Terrible story.\",\n",
    "    \"An average film with decent acting but poor direction.\",\n",
    "    \"Absolutely brilliant! A must-watch for everyone.\",\n",
    "    \"The plot was dull and predictable. Not worth it.\",\n",
    "    \"An exhilarating experience! The visuals were stunning.\",\n",
    "    \"I fell asleep halfway through. It was boring.\",\n",
    "    \"One of the best movies I've ever seen.\",\n",
    "    \"The characters lacked depth, and the story was weak.\",\n",
    "    \"Loved the chemistry between the leads! So heartwarming.\",\n",
    "    \"Terrible acting and horrible script. Would not recommend.\",\n",
    "    \"A decent movie to watch with friends.\",\n",
    "    \"The ending was unexpected and gave me chills!\",\n",
    "    \"I regret wasting my money on this disaster.\",\n",
    "    \"It was funny and entertaining throughout.\",\n",
    "    \"The special effects were impressive, but the story fell flat.\",\n",
    "    \"A masterpiece! Truly a cinematic achievement.\",\n",
    "    \"The dialogues were cheesy, but it was fun overall.\",\n",
    "    \"An emotional rollercoaster! I couldn't hold back my tears.\",\n",
    "    \"Too many plot holes. It felt rushed and incomplete.\",\n",
    "    \"The soundtrack was amazing and fit the scenes perfectly.\",\n",
    "    \"Mediocre at best. Nothing new or interesting.\",\n",
    "    \"A brilliant performance by the lead actor!\",\n",
    "    \"A confusing mess with no clear direction.\",\n",
    "    \"The comedy was spot on! Had me laughing the entire time.\",\n",
    "    \"The pacing was off, and it felt too long.\",\n",
    "    \"One of the most inspiring movies I've watched.\",\n",
    "    \"Unrealistic and overhyped. Disappointed.\",\n",
    "    \"A thought-provoking film that stays with you.\",\n",
    "    \"The cinematography was breathtaking, but the plot was lacking.\",\n",
    "    \"One of the other reviewers has mentioned that after watching just 1 Oz episode you'll be hooked. They are right, as this is exactly what happened with me. \\n\\nThe first thing that struck me about Oz was its brutality and unflinching scenes of violence, which set in right from the word GO. Trust me, this is not a show for the faint hearted or timid. This show pulls no punches with regards to drugs, sex or violence. Its is hardcore, in the classic use of the word.\\n\\nIt is called OZ as that is the nickname given to the Oswald Maximum Security State Penitentiary. It focuses mainly on Emerald City, an experimental section of the prison where all the cells have glass fronts and face inwards, so privacy is not high on the agenda. Em City is home to many...Aryans, Muslims, gangstas, Latinos, Christians, Italians, Irish and more...so scuffles, death stares, dodgy dealings and shady agreements are never far away.\\n\\nI would say the main appeal of the show is due to the fact that it goes where other shows wouldn't dare. Forget pretty pictures painted for mainstream audiences, forget charm, forget romance...OZ doesn't mess around. The first episode I ever saw struck me as so nasty it was surreal, I couldn't say I was ready for it, but as I watched more, I developed a taste for Oz, and got accustomed to the high levels of graphic violence. Not just violence, but injustice (crooked guards who'll be sold out for a nickel, inmates who'll kill on order and get away with it, well-mannered, middle-class inmates being turned into prison bitches due to their lack of street skills or prison experience). Watching Oz, you may become comfortable with what is uncomfortable viewing...that's if you can get in touch with your darker side.\"\n",
    "]\n",
    "\n",
    "    #Convert the sample reviews to sequences\n",
    "sample_sequences = tokenizer.texts_to_sequences(sample_reviews)\n",
    "    #Pad the sequences and make predictions\n",
    "sample_padded = pad_sequences(sample_sequences, maxlen=100)\n",
    "sample_predictions = model.predict(sample_padded, verbose=1)\n",
    "\n",
    "print(\"Sample Review Predictions:\")\n",
    "for review, prediction in zip(sample_reviews, sample_predictions):\n",
    "    sentiment = \"Positive\" if prediction > 0.5 else \"Negative\"\n",
    "    print(f\"Review: {review}\")\n",
    "    print(f\"Predicted Sentiment: {sentiment}\")\n",
    "    print(f\"Prediction Score: {prediction[0]:.2f}\")\n",
    "    print(\"-\" * 50)\n"
   ]
  }
 ],
 "metadata": {
  "kaggle": {
   "accelerator": "nvidiaTeslaT4",
   "dataSources": [
    {
     "datasetId": 134715,
     "sourceId": 320111,
     "sourceType": "datasetVersion"
    },
    {
     "isSourceIdPinned": true,
     "modelId": 201542,
     "modelInstanceId": 179262,
     "sourceId": 210261,
     "sourceType": "modelInstanceVersion"
    },
    {
     "isSourceIdPinned": true,
     "modelId": 201544,
     "modelInstanceId": 179264,
     "sourceId": 210263,
     "sourceType": "modelInstanceVersion"
    }
   ],
   "dockerImageVersionId": 30822,
   "isGpuEnabled": true,
   "isInternetEnabled": true,
   "language": "python",
   "sourceType": "notebook"
  },
  "kernelspec": {
   "display_name": "Python 3",
   "language": "python",
   "name": "python3"
  },
  "language_info": {
   "codemirror_mode": {
    "name": "ipython",
    "version": 3
   },
   "file_extension": ".py",
   "mimetype": "text/x-python",
   "name": "python",
   "nbconvert_exporter": "python",
   "pygments_lexer": "ipython3",
   "version": "3.10.12"
  }
 },
 "nbformat": 4,
 "nbformat_minor": 4
}
